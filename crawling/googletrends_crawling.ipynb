{
 "cells": [
  {
   "cell_type": "code",
   "execution_count": 1,
   "metadata": {},
   "outputs": [],
   "source": [
    "from selenium import webdriver"
   ]
  },
  {
   "cell_type": "code",
   "execution_count": 2,
   "metadata": {},
   "outputs": [],
   "source": [
    "chrome_driver = \"C:/Users/seungsu/Desktop/gentlegraph/chromedriver_win32/chromedriver.exe\"\n",
    "driver = webdriver.Chrome(chrome_driver)"
   ]
  },
  {
   "cell_type": "code",
   "execution_count": 3,
   "metadata": {},
   "outputs": [],
   "source": [
    "driver.get(\"https://trends.google.co.kr/trends/trendingsearches/daily?geo=KR\")"
   ]
  },
  {
   "cell_type": "code",
   "execution_count": 4,
   "metadata": {},
   "outputs": [],
   "source": [
    "trends = driver.find_elements_by_css_selector(\"div.feed-list-wrapper\")"
   ]
  },
  {
   "cell_type": "code",
   "execution_count": 5,
   "metadata": {
    "scrolled": true
   },
   "outputs": [],
   "source": [
    "today_trends = trends[0].find_elements_by_css_selector(\"feed-item\")"
   ]
  },
  {
   "cell_type": "code",
   "execution_count": 9,
   "metadata": {},
   "outputs": [],
   "source": [
    "import datetime\n",
    "import re\n",
    "\n",
    "trends_list = []\n",
    "for trend in today_trends:\n",
    "    header = trend.find_element_by_css_selector(\"div.feed-item-header\")\n",
    "    \n",
    "    rank = header.find_element_by_css_selector(\"div.index\").text\n",
    "    \n",
    "    keyword = header.find_element_by_css_selector(\"div.title\").find_element_by_css_selector(\"a\").text\n",
    "    \n",
    "    news_url = header.find_element_by_css_selector(\"div.summary-text > a\").get_attribute(\"href\")\n",
    "    \n",
    "    now = datetime.datetime.now()\n",
    "    created_time = header.find_element_by_css_selector(\"div.source-and-time\").find_elements_by_css_selector(\"span\")[1].text\n",
    "    if \"시간\" in created_time:\n",
    "        created_time = int(re.findall(\"\\d+\", created_time)[0])\n",
    "        created_time = (now - datetime.timedelta(hours=created_time))\n",
    "    elif \"일\" in created_time:\n",
    "        created_time = int(re.findall(\"\\d+\", created_time)[0])\n",
    "        created_time = (now - datetime.timedelta(days=created_time))\n",
    "    else:\n",
    "        created_time = now\n",
    "        \n",
    "    search_count = header.find_element_by_css_selector(\"div.search-count-title\").text\n",
    "    \n",
    "    data = {\n",
    "        \"rank\" : rank,\n",
    "        \"keyword\" : keyword,\n",
    "        \"news_url\" : news_url,\n",
    "        \"created_time\" : created_time.strftime(\"%Y-%m-%d\"),\n",
    "        \"search_count\" : search_count\n",
    "    }\n",
    "    \n",
    "    trends_list.append(data)"
   ]
  },
  {
   "cell_type": "code",
   "execution_count": 10,
   "metadata": {},
   "outputs": [],
   "source": [
    "from pprint import pprint"
   ]
  },
  {
   "cell_type": "code",
   "execution_count": 11,
   "metadata": {},
   "outputs": [
    {
     "name": "stdout",
     "output_type": "stream",
     "text": [
      "[{'created_time': '2021-03-26',\n",
      "  'keyword': '이여름',\n",
      "  'news_url': 'https://www.news1.kr/articles/?4253458',\n",
      "  'rank': '1',\n",
      "  'search_count': '2만+'},\n",
      " {'created_time': '2021-03-26',\n",
      "  'keyword': '설강화',\n",
      "  'news_url': 'http://www.newsworks.co.kr/news/articleView.html?idxno=537184',\n",
      "  'rank': '2',\n",
      "  'search_count': '5천+'},\n",
      " {'created_time': '2021-03-26',\n",
      "  'keyword': '서신애',\n",
      "  'news_url': 'https://www.hankyung.com/entertainment/article/202103265610H',\n",
      "  'rank': '3',\n",
      "  'search_count': '5천+'},\n",
      " {'created_time': '2021-03-26',\n",
      "  'keyword': '몬스터헌터 라이즈',\n",
      "  'news_url': 'https://zdnet.co.kr/view/?no=20210326105913',\n",
      "  'rank': '4',\n",
      "  'search_count': '5천+'},\n",
      " {'created_time': '2021-03-26',\n",
      "  'keyword': '신혜선',\n",
      "  'news_url': 'https://www.hankyung.com/entertainment/article/202103263979H',\n",
      "  'rank': '5',\n",
      "  'search_count': '2천+'},\n",
      " {'created_time': '2021-03-26',\n",
      "  'keyword': '셀트리온',\n",
      "  'news_url': 'https://biz.chosun.com/site/data/html_dir/2021/03/26/2021032601843.html',\n",
      "  'rank': '6',\n",
      "  'search_count': '2천+'}]\n"
     ]
    }
   ],
   "source": [
    "pprint(trends_list)"
   ]
  },
  {
   "cell_type": "code",
   "execution_count": null,
   "metadata": {},
   "outputs": [],
   "source": []
  }
 ],
 "metadata": {
  "kernelspec": {
   "display_name": "Python 3",
   "language": "python",
   "name": "python3"
  },
  "language_info": {
   "codemirror_mode": {
    "name": "ipython",
    "version": 3
   },
   "file_extension": ".py",
   "mimetype": "text/x-python",
   "name": "python",
   "nbconvert_exporter": "python",
   "pygments_lexer": "ipython3",
   "version": "3.7.4"
  }
 },
 "nbformat": 4,
 "nbformat_minor": 2
}
