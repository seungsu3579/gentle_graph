{
 "cells": [
  {
   "cell_type": "code",
   "execution_count": 4,
   "metadata": {},
   "outputs": [],
   "source": [
    "from selenium import webdriver\n",
    "from selenium.webdriver.common.keys import Keys\n",
    "import time\n",
    "from tqdm import tqdm\n",
    "from fake_useragent import UserAgent"
   ]
  },
  {
   "cell_type": "markdown",
   "metadata": {},
   "source": [
    "### settings"
   ]
  },
  {
   "cell_type": "code",
   "execution_count": 12,
   "metadata": {},
   "outputs": [],
   "source": [
    "# init chrome driver\n",
    "chrome_driver = \"C:/Users/seungsu/Desktop/gentlegraph/crawling/chromedriver_win32/chromedriver.exe\"\n",
    "\n",
    "chrome_options = webdriver.ChromeOptions()\n",
    "\n",
    "chrome_options.add_argument(\"headless\")\n",
    "chrome_options.add_argument(\"--window-size=1100,2000\")\n",
    "userAgent = UserAgent().random\n",
    "chrome_options.add_argument(f'user-agent={userAgent}')\n",
    "\n",
    "prefs = {'profile.default_content_setting_values': {'cookies' : 2, 'images': 2, 'plugins' : 2, 'popups': 2, 'geolocation': 2, 'notifications' : 2, 'auto_select_certificate': 2, 'fullscreen' : 2, 'mouselock' : 2, 'mixed_script': 2, 'media_stream' : 2, 'media_stream_mic' : 2, 'media_stream_camera': 2, 'protocol_handlers' : 2, 'ppapi_broker' : 2, 'automatic_downloads': 2, 'midi_sysex' : 2, 'push_messaging' : 2, 'ssl_cert_decisions': 2, 'metro_switch_to_desktop' : 2, 'protected_media_identifier': 2, 'app_banner': 2, 'site_engagement' : 2, 'durable_storage' : 2}} \n",
    "chrome_options.add_experimental_option('prefs', prefs)\n",
    "driver = webdriver.Chrome(chrome_driver, options=chrome_options)\n"
   ]
  },
  {
   "cell_type": "markdown",
   "metadata": {},
   "source": [
    "### 전체 재생목록 가져오기"
   ]
  },
  {
   "cell_type": "code",
   "execution_count": 13,
   "metadata": {},
   "outputs": [],
   "source": [
    "import time\n",
    "\n",
    "driver.get(\"https://www.youtube.com/playlist?list=PLmtapKaZsgZt3g_uAPJbsMWdkVsznn_2R\")\n",
    "driver.execute_script('window.scrollTo(0, 20000);')\n",
    "driver.implicitly_wait(2)\n",
    "playlist = driver.find_elements_by_css_selector(\"ytd-playlist-video-renderer\")"
   ]
  },
  {
   "cell_type": "code",
   "execution_count": 14,
   "metadata": {},
   "outputs": [],
   "source": [
    "total_contents = []\n",
    "for content in playlist:\n",
    "    index = content.find_element_by_css_selector(\"#index\").text\n",
    "    video_info = content.find_element_by_css_selector(\"a#video-title\")\n",
    "    channel_info = content.find_element_by_css_selector(\"ytd-channel-name#channel-name\").find_element_by_css_selector(\"a\")\n",
    "    url = video_info.get_attribute(\"href\")\n",
    "    title = video_info.text\n",
    "    creator = channel_info.text\n",
    "    creator_channel = channel_info.get_attribute(\"href\")\n",
    "    \n",
    "    data = {\n",
    "        \"rank\" : index,\n",
    "        \"content_url\" : url,\n",
    "        \"content_title\" : title,\n",
    "        \"creator\" : creator,\n",
    "        \"creator_url\" : creator_channel\n",
    "    }\n",
    "    \n",
    "    total_contents.append(data)"
   ]
  },
  {
   "cell_type": "code",
   "execution_count": 15,
   "metadata": {
    "scrolled": true
   },
   "outputs": [
    {
     "data": {
      "text/plain": [
       "[{'rank': '1',\n",
       "  'content_url': 'https://www.youtube.com/watch?v=hfXqgH2RscE&list=PLmtapKaZsgZt3g_uAPJbsMWdkVsznn_2R&index=1',\n",
       "  'content_title': '아이유 모르는 척하기 챌린지 | ODG',\n",
       "  'creator': 'odg',\n",
       "  'creator_url': 'https://www.youtube.com/c/ODGkids'},\n",
       " {'rank': '2',\n",
       "  'content_url': 'https://www.youtube.com/watch?v=PXemHTr_xLs&list=PLmtapKaZsgZt3g_uAPJbsMWdkVsznn_2R&index=2',\n",
       "  'content_title': '[밥묵자] 무서운 우리새끼 (feat. 김종국)',\n",
       "  'creator': '꼰대희',\n",
       "  'creator_url': 'https://www.youtube.com/channel/UCSc2DcSzzjHgBn8Hg0KG7PA'},\n",
       " {'rank': '3',\n",
       "  'content_url': 'https://www.youtube.com/watch?v=uJ0J3ZdEMH4&list=PLmtapKaZsgZt3g_uAPJbsMWdkVsznn_2R&index=3',\n",
       "  'content_title': '[선공개] 브레이브걸스 - 운전만 해♬ 이 노래엔 슬픈 사연이 있어ㅠㅜ #사이코러스 #코미디빅리그 | Comedy Big League EP.402',\n",
       "  'creator': '코미디빅리그',\n",
       "  'creator_url': 'https://www.youtube.com/user/COMEDYBIGLEAGUE'},\n",
       " {'rank': '4',\n",
       "  'content_url': 'https://www.youtube.com/watch?v=BKzdQ0lsyaM&list=PLmtapKaZsgZt3g_uAPJbsMWdkVsznn_2R&index=4',\n",
       "  'content_title': \"[머니올라 189화/염블리의 비밀노트] '성장주 3대장' 다시 뛴다... 2분기 포트폴리오 어떻게 새로 짤까?(염승환 부장)\",\n",
       "  'creator': '머니올라',\n",
       "  'creator_url': 'https://www.youtube.com/channel/UCAySceX4rbSr408F1dUpuUw'},\n",
       " {'rank': '5',\n",
       "  'content_url': 'https://www.youtube.com/watch?v=wDfqXR_5yyQ&list=PLmtapKaZsgZt3g_uAPJbsMWdkVsznn_2R&index=5',\n",
       "  'content_title': '[4K][Special] 아이유(IU)의 킬링보이스를 라이브로! / 하루 끝, 너의 의미, 스물셋, 밤편지, 팔레트, 가을 아침, 삐삐, Blueming, 에잇, Coin, 라일락',\n",
       "  'creator': '딩고 뮤직 / dingo music',\n",
       "  'creator_url': 'https://www.youtube.com/c/DingoMusic'},\n",
       " {'rank': '6',\n",
       "  'content_url': 'https://www.youtube.com/watch?v=JjyZ3Gnim58&list=PLmtapKaZsgZt3g_uAPJbsMWdkVsznn_2R&index=6',\n",
       "  'content_title': '[EPISODE] BTS (방탄소년단) @ 200929 The Tonight Show',\n",
       "  'creator': 'BANGTANTV',\n",
       "  'creator_url': 'https://www.youtube.com/channel/UCLkAepWjdylmXSltofFvsYQ'},\n",
       " {'rank': '7',\n",
       "  'content_url': 'https://www.youtube.com/watch?v=ySiXnfkwdXw&list=PLmtapKaZsgZt3g_uAPJbsMWdkVsznn_2R&index=7',\n",
       "  'content_title': \"[선공개] 롤린만큼 〈(^-^)〉 〈(^-^)〉 띵곡 브레이브걸스(BraveGirls)의 '하이힐'♬ 무대👠 아는 형님(Knowing bros) 274회\",\n",
       "  'creator': '아는형님 Knowingbros',\n",
       "  'creator_url': 'https://www.youtube.com/c/Knowingbros'},\n",
       " {'rank': '8',\n",
       "  'content_url': 'https://www.youtube.com/watch?v=ACU8tr6FLiA&list=PLmtapKaZsgZt3g_uAPJbsMWdkVsznn_2R&index=8',\n",
       "  'content_title': 'Cafe vlog｜Cafe 7 DREAM은 오늘도 영업중☕️｜카페브이로그｜카페7드림｜#나메리카노매운맛｜#바쁜하루｜#카페신메뉴출시',\n",
       "  'creator': 'NCT DREAM',\n",
       "  'creator_url': 'https://www.youtube.com/channel/UCXURHJRGr4-EB3l87kcbElw'},\n",
       " {'rank': '9',\n",
       "  'content_url': 'https://www.youtube.com/watch?v=EJyU0x0A4XI&list=PLmtapKaZsgZt3g_uAPJbsMWdkVsznn_2R&index=9',\n",
       "  'content_title': '10년 노숙생활의 충격반전, 검은 얼굴의 사나이┃10 Years of Sleeping on the Streets, a Man With Black Face',\n",
       "  'creator': '우와한 비디오',\n",
       "  'creator_url': 'https://www.youtube.com/c/sbswowvideo'},\n",
       " {'rank': '10',\n",
       "  'content_url': 'https://www.youtube.com/watch?v=4CgJjgOwoBQ&list=PLmtapKaZsgZt3g_uAPJbsMWdkVsznn_2R&index=10',\n",
       "  'content_title': '정승네트워크 연봉 공개 - 【좋좋소 Ep.13】',\n",
       "  'creator': '이과장',\n",
       "  'creator_url': 'https://www.youtube.com/channel/UCtfriFvIe5gIe8wRWb8UTMg'},\n",
       " {'rank': '11',\n",
       "  'content_url': 'https://www.youtube.com/watch?v=HN3i8u9wNsM&list=PLmtapKaZsgZt3g_uAPJbsMWdkVsznn_2R&index=11',\n",
       "  'content_title': '항아리오븐....깨질것 같은데.... l 철원일기 4화',\n",
       "  'creator': '승우아빠 이상채널',\n",
       "  'creator_url': 'https://www.youtube.com/channel/UCIY5oUCeajc-RrQovJHBp1A'},\n",
       " {'rank': '12',\n",
       "  'content_url': 'https://www.youtube.com/watch?v=7NLT5UcbvOo&list=PLmtapKaZsgZt3g_uAPJbsMWdkVsznn_2R&index=12',\n",
       "  'content_title': '(ENG) 어제 내 세상이 무너졌어 한순간에 활동 접더라 너무 힘들어 내 목숨을 가져가도 좋아 제발 다시 컴백해줘 (feat.컴눈명) / [문명특급 EP.178]',\n",
       "  'creator': '문명특급 - MMTG',\n",
       "  'creator_url': 'https://www.youtube.com/c/Oopssofastexpress'},\n",
       " {'rank': '13',\n",
       "  'content_url': 'https://www.youtube.com/watch?v=SOzU12vgF34&list=PLmtapKaZsgZt3g_uAPJbsMWdkVsznn_2R&index=13',\n",
       "  'content_title': '샀노라 탔노라 긁었노라 (K-유튜버 최초 포르쉐 타이칸 사고)',\n",
       "  'creator': '괴물쥐 유튜브',\n",
       "  'creator_url': 'https://www.youtube.com/channel/UCDBAVzfX3yZ1hah0FHnOoaA'},\n",
       " {'rank': '14',\n",
       "  'content_url': 'https://www.youtube.com/watch?v=SN9UK_SwQ9s&list=PLmtapKaZsgZt3g_uAPJbsMWdkVsznn_2R&index=14',\n",
       "  'content_title': \"[Simply K-Pop] Brave Girls (브레이브걸스) - Rollin' (롤린) _ Ep.461\",\n",
       "  'creator': 'ARIRANG K-POP',\n",
       "  'creator_url': 'https://www.youtube.com/c/arirangworld'},\n",
       " {'rank': '15',\n",
       "  'content_url': 'https://www.youtube.com/watch?v=NCuCIEFIGek&list=PLmtapKaZsgZt3g_uAPJbsMWdkVsznn_2R&index=15',\n",
       "  'content_title': '유럽팀에서 뛰던 선출 vs 대학생 아마추어 팀이 붙었는데… 처음 발맞추는데 이 정도라고?? l 이천수의 천재투어 EP.14',\n",
       "  'creator': 'Shoot for Love 슛포러브',\n",
       "  'creator_url': 'https://www.youtube.com/user/shootforloveworld'},\n",
       " {'rank': '16',\n",
       "  'content_url': 'https://www.youtube.com/watch?v=7xeYdA5kZIk&list=PLmtapKaZsgZt3g_uAPJbsMWdkVsznn_2R&index=16',\n",
       "  'content_title': '우리나라 하천 맞습니다 ㄷㄷ 물고기떼가 너무 많아 물밖으로 나올지경이네요. 조의영역?? [생도다큐]',\n",
       "  'creator': 'TV생물도감',\n",
       "  'creator_url': 'https://www.youtube.com/channel/UCgsgpELbaTiGjCHIjHVF8uQ'},\n",
       " {'rank': '17',\n",
       "  'content_url': 'https://www.youtube.com/watch?v=bppcLsAi0hY&list=PLmtapKaZsgZt3g_uAPJbsMWdkVsznn_2R&index=17',\n",
       "  'content_title': '포르쉐 타이칸 출고했습니다! | 브이로그',\n",
       "  'creator': '괴물쥐 유튜브',\n",
       "  'creator_url': 'https://www.youtube.com/channel/UCDBAVzfX3yZ1hah0FHnOoaA'},\n",
       " {'rank': '18',\n",
       "  'content_url': 'https://www.youtube.com/watch?v=603xu2QjYcs&list=PLmtapKaZsgZt3g_uAPJbsMWdkVsznn_2R&index=18',\n",
       "  'content_title': '안녕하세요. 런닝맨 멤버들 거짓말 모음집을 준비해봤는데요. 재미가 있으실는지 모르',\n",
       "  'creator': '런닝맨 - 스브스 공식 채널',\n",
       "  'creator_url': 'https://www.youtube.com/c/SBSRunningMan'},\n",
       " {'rank': '19',\n",
       "  'content_url': 'https://www.youtube.com/watch?v=t3vPwsuMIck&list=PLmtapKaZsgZt3g_uAPJbsMWdkVsznn_2R&index=19',\n",
       "  'content_title': '[eng] 논나 보물 1호',\n",
       "  'creator': '밀라논나 Milanonna',\n",
       "  'creator_url': 'https://www.youtube.com/c/Milanonna'},\n",
       " {'rank': '20',\n",
       "  'content_url': 'https://www.youtube.com/watch?v=xBA8JUvZTvc&list=PLmtapKaZsgZt3g_uAPJbsMWdkVsznn_2R&index=20',\n",
       "  'content_title': '찼는데 차인 기분',\n",
       "  'creator': '짧은대본 ShortPaper',\n",
       "  'creator_url': 'https://www.youtube.com/channel/UChgOgRNxrtCcVARDQT_c-Zg'},\n",
       " {'rank': '21',\n",
       "  'content_url': 'https://www.youtube.com/watch?v=aLm3DQ3IC5A&list=PLmtapKaZsgZt3g_uAPJbsMWdkVsznn_2R&index=21',\n",
       "  'content_title': '[다홍VLOG] 안녕하세요 편집자입니다.',\n",
       "  'creator': '검은고양이 다홍 Blackcat Dahong',\n",
       "  'creator_url': 'https://www.youtube.com/channel/UCKUz_7LxgiMXa0lrwzzsKTQ'},\n",
       " {'rank': '22',\n",
       "  'content_url': 'https://www.youtube.com/watch?v=zFT3f9biz68&list=PLmtapKaZsgZt3g_uAPJbsMWdkVsznn_2R&index=22',\n",
       "  'content_title': \"BTS (방탄소년단) 'Film out' Official MV\",\n",
       "  'creator': 'HYBE LABELS',\n",
       "  'creator_url': 'https://www.youtube.com/c/HYBELABELS'},\n",
       " {'rank': '23',\n",
       "  'content_url': 'https://www.youtube.com/watch?v=QSAKpq2GwPo&list=PLmtapKaZsgZt3g_uAPJbsMWdkVsznn_2R&index=23',\n",
       "  'content_title': '(근황공개) 영재발굴단 괴력의 역도소녀 안시윤 양을 만나고 왔어요~┃(Update) A Superhuman Strength Weightlifting Girl🥇',\n",
       "  'creator': '우와한 비디오',\n",
       "  'creator_url': 'https://www.youtube.com/c/sbswowvideo'},\n",
       " {'rank': '24',\n",
       "  'content_url': 'https://www.youtube.com/watch?v=7DJT5AoAcdI&list=PLmtapKaZsgZt3g_uAPJbsMWdkVsznn_2R&index=24',\n",
       "  'content_title': '[밥묵자] 마지막 화 (feat. 쯔양)',\n",
       "  'creator': '꼰대희',\n",
       "  'creator_url': 'https://www.youtube.com/channel/UCSc2DcSzzjHgBn8Hg0KG7PA'},\n",
       " {'rank': '25',\n",
       "  'content_url': 'https://www.youtube.com/watch?v=bvz5xi-zGZ8&list=PLmtapKaZsgZt3g_uAPJbsMWdkVsznn_2R&index=25',\n",
       "  'content_title': '24시간동안 마늘 VS 버터!! 한국인은 무조건 마늘을 좋아할까?!',\n",
       "  'creator': '파뿌리',\n",
       "  'creator_url': 'https://www.youtube.com/channel/UClzB2iZ5jPoTNz0S-QU6Wiw'},\n",
       " {'rank': '26',\n",
       "  'content_url': 'https://www.youtube.com/watch?v=nYAu8fo4HH4&list=PLmtapKaZsgZt3g_uAPJbsMWdkVsznn_2R&index=26',\n",
       "  'content_title': '★박수홍 11분 총정리★ 이제야 퍼즐이 맞춰지네!! 가족사→친형 빚→횡령→다홍이와 눈물',\n",
       "  'creator': 'MBN Entertainment',\n",
       "  'creator_url': 'https://www.youtube.com/channel/UCYyLIlOJyqkAFKlVjzX5img'},\n",
       " {'rank': '27',\n",
       "  'content_url': 'https://www.youtube.com/watch?v=3NZBOT9R8N8&list=PLmtapKaZsgZt3g_uAPJbsMWdkVsznn_2R&index=27',\n",
       "  'content_title': '머니게임',\n",
       "  'creator': 'U.M.A.우마',\n",
       "  'creator_url': 'https://www.youtube.com/c/%EC%9A%B0%EB%A7%88UMA'},\n",
       " {'rank': '28',\n",
       "  'content_url': 'https://www.youtube.com/watch?v=iQ99aW4luzA&list=PLmtapKaZsgZt3g_uAPJbsMWdkVsznn_2R&index=28',\n",
       "  'content_title': '유기견인 줄 알았던 백구에게 사실 진짜 가족이 있었지 뭐에요ㅣDog Who Thought To Be Stray.. As Soon As He Meets His Real Owner',\n",
       "  'creator': 'SBS TV동물농장x애니멀봐',\n",
       "  'creator_url': 'https://www.youtube.com/c/SBSTV%EB%8F%99%EB%AC%BC%EB%86%8D%EC%9E%A5x%EC%95%A0%EB%8B%88%EB%A9%80%EB%B4%90'},\n",
       " {'rank': '29',\n",
       "  'content_url': 'https://www.youtube.com/watch?v=Sd9OoVcyguk&list=PLmtapKaZsgZt3g_uAPJbsMWdkVsznn_2R&index=29',\n",
       "  'content_title': '공개연애 시작한 박민정 잡으러 온 쌍 오빠들ㅋㅋㅋㅋㅋㅋㅋㅋㅋ 하우스어택 16화 Feat. 박민정',\n",
       "  'creator': '조재원',\n",
       "  'creator_url': 'https://www.youtube.com/c/%EC%A1%B0%EC%9E%AC%EC%9B%90JoJaeWon'},\n",
       " {'rank': '30',\n",
       "  'content_url': 'https://www.youtube.com/watch?v=JTwXG6BT7Bg&list=PLmtapKaZsgZt3g_uAPJbsMWdkVsznn_2R&index=30',\n",
       "  'content_title': '자취 시작한 여사친 집에 단 둘이 I [찐한친구💋] ep.4',\n",
       "  'creator': '겟TV',\n",
       "  'creator_url': 'https://www.youtube.com/c/%EA%B2%9FTV'},\n",
       " {'rank': '31',\n",
       "  'content_url': 'https://www.youtube.com/watch?v=D5fAZMmSkgQ&list=PLmtapKaZsgZt3g_uAPJbsMWdkVsznn_2R&index=31',\n",
       "  'content_title': '[#밥심pick✔] 일라이와의 이혼 과정에서 지연수가 겪은 충격적인 이야기들ㅣ강호동의밥심ㅣ#하이라이트',\n",
       "  'creator': '강호동의 밥심',\n",
       "  'creator_url': 'https://www.youtube.com/channel/UC4nEQI74rZkFKlUSwi0ur4A'},\n",
       " {'rank': '32',\n",
       "  'content_url': 'https://www.youtube.com/watch?v=Chgs6nI-fK8&list=PLmtapKaZsgZt3g_uAPJbsMWdkVsznn_2R&index=32',\n",
       "  'content_title': '[창과 방패] 오마이걸이 증인으로 출석한 이유?!',\n",
       "  'creator': '빙그레아이스크림',\n",
       "  'creator_url': 'https://www.youtube.com/c/binggraeicecream'},\n",
       " {'rank': '33',\n",
       "  'content_url': 'https://www.youtube.com/watch?v=VJAwB2nyH7g&list=PLmtapKaZsgZt3g_uAPJbsMWdkVsznn_2R&index=33',\n",
       "  'content_title': '[선공개] 송민호 ′누구 없소′ vs 이무진 ′도망가′ 싱크로율 대결ㅋㅋ 유명가수전(famoussinger) 1회',\n",
       "  'creator': 'JTBC Entertainment',\n",
       "  'creator_url': 'https://www.youtube.com/c/JTBCentertainment'},\n",
       " {'rank': '34',\n",
       "  'content_url': 'https://www.youtube.com/watch?v=wq6g8ShrVrk&list=PLmtapKaZsgZt3g_uAPJbsMWdkVsznn_2R&index=34',\n",
       "  'content_title': '(벽뿌심 주의) 귀여움💗과 (소리주의)고막👂을 맞바꿨습니다 | 아기 사진관 알바 리뷰 | 워크맨 ep.95',\n",
       "  'creator': '워크맨-Workman',\n",
       "  'creator_url': 'https://www.youtube.com/c/workman'},\n",
       " {'rank': '35',\n",
       "  'content_url': 'https://www.youtube.com/watch?v=dyxj5_Juxpc&list=PLmtapKaZsgZt3g_uAPJbsMWdkVsznn_2R&index=35',\n",
       "  'content_title': \"[꼬꼬무2] 요약 '2002년, 여대생 청부 살인사건과 모두를 울린 피해자 가족의 근황' | SBS NOW\",\n",
       "  'creator': 'SBS NOW / SBS 공식 채널',\n",
       "  'creator_url': 'https://www.youtube.com/c/SBSNOW'},\n",
       " {'rank': '36',\n",
       "  'content_url': 'https://www.youtube.com/watch?v=y9AB5OmtwGA&list=PLmtapKaZsgZt3g_uAPJbsMWdkVsznn_2R&index=36',\n",
       "  'content_title': '[몰카] 선배 집에서 후배와 낯선여자가 뒹굴고 있는 현장을 본다면? 설마 저 여자도 후배?!!ㅋㅋㅋㅋㅋ가짜다리 몰카 3탄',\n",
       "  'creator': '면상들',\n",
       "  'creator_url': 'https://www.youtube.com/channel/UCEUL40nXJFCBv9z3Q1V6YMQ'},\n",
       " {'rank': '37',\n",
       "  'content_url': 'https://www.youtube.com/watch?v=Y85YdppTotA&list=PLmtapKaZsgZt3g_uAPJbsMWdkVsznn_2R&index=37',\n",
       "  'content_title': '세상 가장 바삭바삭한 전 만드는 비법! [바사삭 부추전] Crispy Chive Pancake',\n",
       "  'creator': '이 남자의 cook',\n",
       "  'creator_url': 'https://www.youtube.com/c/%EC%9D%B4%EB%82%A8%EC%9E%90%EC%9D%98cook'},\n",
       " {'rank': '38',\n",
       "  'content_url': 'https://www.youtube.com/watch?v=lYNhI3DpXuE&list=PLmtapKaZsgZt3g_uAPJbsMWdkVsznn_2R&index=38',\n",
       "  'content_title': 'UDT 출신이랑 채널 걸고 한판 붙었습니다(feat. 1++ 한우) | [미선이네👩\\u200d🍳]',\n",
       "  'creator': '미선임파서블 MISUN:IMPOSSIBLE',\n",
       "  'creator_url': 'https://www.youtube.com/c/MISUNIMPOSSIBLE'},\n",
       " {'rank': '39',\n",
       "  'content_url': 'https://www.youtube.com/watch?v=-U9f0ysX7e0&list=PLmtapKaZsgZt3g_uAPJbsMWdkVsznn_2R&index=39',\n",
       "  'content_title': '출산하고 돌아온 주인을 맞이하는 진돗개들의 신기한 행동',\n",
       "  'creator': '올리버쌤',\n",
       "  'creator_url': 'https://www.youtube.com/c/%EC%98%AC%EB%A6%AC%EB%B2%84%EC%8C%A4'},\n",
       " {'rank': '40',\n",
       "  'content_url': 'https://www.youtube.com/watch?v=CTdKIcriaRE&list=PLmtapKaZsgZt3g_uAPJbsMWdkVsznn_2R&index=40',\n",
       "  'content_title': '길거리에서 라일락 쳐보기',\n",
       "  'creator': '김광연',\n",
       "  'creator_url': 'https://www.youtube.com/channel/UCabon80hORhtGhnqClyeixQ'},\n",
       " {'rank': '41',\n",
       "  'content_url': 'https://www.youtube.com/watch?v=LN2pKYvNHi0&list=PLmtapKaZsgZt3g_uAPJbsMWdkVsznn_2R&index=41',\n",
       "  'content_title': '[몰카] ENG) 중국집 사장님이 다른 중국집 짜장면을 배달 시켜 먹는걸 목격한다면?!? ㅋㅋㅋ 왜 다른집을 더 맛있어 해 ㅋㅋㅋㅋㅋ',\n",
       "  'creator': '낄낄상회',\n",
       "  'creator_url': 'https://www.youtube.com/channel/UCLVwgJVAzHwA-zv88mrAeZw'},\n",
       " {'rank': '42',\n",
       "  'content_url': 'https://www.youtube.com/watch?v=NM2zBAmcDWQ&list=PLmtapKaZsgZt3g_uAPJbsMWdkVsznn_2R&index=42',\n",
       "  'content_title': '문방구에서 한 가지 과목으로만 장보기 대결ㅋㅋㅋㅋ',\n",
       "  'creator': '웃소 Wootso',\n",
       "  'creator_url': 'https://www.youtube.com/c/Wootso'},\n",
       " {'rank': '43',\n",
       "  'content_url': 'https://www.youtube.com/watch?v=gNOMbGjVPVI&list=PLmtapKaZsgZt3g_uAPJbsMWdkVsznn_2R&index=43',\n",
       "  'content_title': '(구)페북스타 둘이서 틱톡에 도전해보았다 (반전결과ㅋㅋㅋㅋ)',\n",
       "  'creator': '웃소 Wootso',\n",
       "  'creator_url': 'https://www.youtube.com/c/Wootso'},\n",
       " {'rank': '44',\n",
       "  'content_url': 'https://www.youtube.com/watch?v=KCzcAPDjsEk&list=PLmtapKaZsgZt3g_uAPJbsMWdkVsznn_2R&index=44',\n",
       "  'content_title': '고의로 장난쳐놓고 실수라고 우기는 김동현 고의적인실수(?)로 조지기^^ ㅋㅋㅋㅋㅋㅋ',\n",
       "  'creator': '보물섬',\n",
       "  'creator_url': 'https://www.youtube.com/channel/UC9ZLv1m7QDLv991X1-p50AA'},\n",
       " {'rank': '45',\n",
       "  'content_url': 'https://www.youtube.com/watch?v=jmD-j87P26A&list=PLmtapKaZsgZt3g_uAPJbsMWdkVsznn_2R&index=45',\n",
       "  'content_title': '단, 2가지재료! 완두콩 푸시팝 만들기🐛 | 틱톡 핫템! 피젯토이 만들기 | 팝잇 만들기 | TikTok Pea Fidget Toy | 루키밍',\n",
       "  'creator': '루키밍ʀᴏᴏᴋɪᴇ sʟɪᴍᴇ',\n",
       "  'creator_url': 'https://www.youtube.com/channel/UCnCyCLS6IpDizrFSXED1S9g'},\n",
       " {'rank': '46',\n",
       "  'content_url': 'https://www.youtube.com/watch?v=B3h2xrfwrCw&list=PLmtapKaZsgZt3g_uAPJbsMWdkVsznn_2R&index=46',\n",
       "  'content_title': '차를 고치러 차아래로 들어간 친구가 차에 깔린다면?!?ㅋㅋ 반전주의!!!ㅋㅋㅋ',\n",
       "  'creator': '더블비',\n",
       "  'creator_url': 'https://www.youtube.com/channel/UCyCL5k8P1iUOc1EymhhMW1A'},\n",
       " {'rank': '47',\n",
       "  'content_url': 'https://www.youtube.com/watch?v=b6TwsH5_Zbs&list=PLmtapKaZsgZt3g_uAPJbsMWdkVsznn_2R&index=47',\n",
       "  'content_title': '[동충하초] 몰카 유튜버',\n",
       "  'creator': '키에커',\n",
       "  'creator_url': 'https://www.youtube.com/c/%ED%82%A4%EC%97%90%EC%BB%A4'},\n",
       " {'rank': '48',\n",
       "  'content_url': 'https://www.youtube.com/watch?v=Xqgnqv7Yx4M&list=PLmtapKaZsgZt3g_uAPJbsMWdkVsznn_2R&index=48',\n",
       "  'content_title': '알면 알수록 기묘한 동물, 문어! (feat. 문어의 지능과 진화)',\n",
       "  'creator': '과학드림 [Science Dream]',\n",
       "  'creator_url': 'https://www.youtube.com/c/ScienceDream'},\n",
       " {'rank': '49',\n",
       "  'content_url': 'https://www.youtube.com/watch?v=WCNb4dk42XE&list=PLmtapKaZsgZt3g_uAPJbsMWdkVsznn_2R&index=49',\n",
       "  'content_title': '조기축구 아저씨 유형 Best12',\n",
       "  'creator': '김진짜 Real KIM',\n",
       "  'creator_url': 'https://www.youtube.com/channel/UChb4gtsgSdwMDktdLukfrfw'},\n",
       " {'rank': '50',\n",
       "  'content_url': 'https://www.youtube.com/watch?v=EdCubX4MN6Y&list=PLmtapKaZsgZt3g_uAPJbsMWdkVsznn_2R&index=50',\n",
       "  'content_title': '베트남 복권 400장 결과 발표합니다. 주작 아닙니다;; (깜놀주의)',\n",
       "  'creator': '옆집형NeighborBro',\n",
       "  'creator_url': 'https://www.youtube.com/c/%EC%98%86%EC%A7%91%ED%98%95NeighborBro'},\n",
       " {'rank': '51',\n",
       "  'content_url': 'https://www.youtube.com/watch?v=bhXGwIpp5gk&list=PLmtapKaZsgZt3g_uAPJbsMWdkVsznn_2R&index=51',\n",
       "  'content_title': '고길동 - 종로롤린',\n",
       "  'creator': '여유만만',\n",
       "  'creator_url': 'https://www.youtube.com/channel/UCDb1t5K_DAgdfYQyq0k40HQ'},\n",
       " {'rank': '52',\n",
       "  'content_url': 'https://www.youtube.com/watch?v=2U3rDZN8pMc&list=PLmtapKaZsgZt3g_uAPJbsMWdkVsznn_2R&index=52',\n",
       "  'content_title': '1주년 기념 TMI 대방출 2탄',\n",
       "  'creator': '오피니언',\n",
       "  'creator_url': 'https://www.youtube.com/channel/UCM64IkO7s9OIMVoEJ-ddIvg'},\n",
       " {'rank': '53',\n",
       "  'content_url': 'https://www.youtube.com/watch?v=hEJzz_y63Gw&list=PLmtapKaZsgZt3g_uAPJbsMWdkVsznn_2R&index=53',\n",
       "  'content_title': '찬물라면! 저도 끓여보았습니다. 그것도 10개를 한번에!',\n",
       "  'creator': \"백종원의 요리비책 Paik's Cuisine\",\n",
       "  'creator_url': 'https://www.youtube.com/channel/UCyn-K7rZLXjGl7VXGweIlcA'},\n",
       " {'rank': '54',\n",
       "  'content_url': 'https://www.youtube.com/watch?v=gV-7zNvzZaY&list=PLmtapKaZsgZt3g_uAPJbsMWdkVsznn_2R&index=54',\n",
       "  'content_title': '미얀마 유혈사태에 갈라진 승려들 - BBC News 코리아',\n",
       "  'creator': 'BBC News 코리아',\n",
       "  'creator_url': 'https://www.youtube.com/c/BBCNews%EC%BD%94%EB%A6%AC%EC%95%84'},\n",
       " {'rank': '55',\n",
       "  'content_url': 'https://www.youtube.com/watch?v=AluvqqmO5X4&list=PLmtapKaZsgZt3g_uAPJbsMWdkVsznn_2R&index=55',\n",
       "  'content_title': \"BAEKHYUN 백현 'Bambi' MV Reaction (feat.XIUMIN)\",\n",
       "  'creator': 'EXO',\n",
       "  'creator_url': 'https://www.youtube.com/channel/UCzCedBCSSltI1TFd3bKyN6g'},\n",
       " {'rank': '56',\n",
       "  'content_url': 'https://www.youtube.com/watch?v=abU7vV1aWys&list=PLmtapKaZsgZt3g_uAPJbsMWdkVsznn_2R&index=56',\n",
       "  'content_title': '음식에 대한 열정 MAX! 열정 셰프 조셉의 한식 먹방♥ l #어서와정류장 l #어서와한국은처음이지 l #MBCevery1',\n",
       "  'creator': 'ALL THE K-JAM 올더케이잼',\n",
       "  'creator_url': 'https://www.youtube.com/c/ALLTHEKJAM'},\n",
       " {'rank': '57',\n",
       "  'content_url': 'https://www.youtube.com/watch?v=m13P4U4lSLs&list=PLmtapKaZsgZt3g_uAPJbsMWdkVsznn_2R&index=57',\n",
       "  'content_title': '슈퍼맨이 돌아왔다 376회 티저 - 찐건나블리네 [슈퍼맨이 돌아왔다/The Return of Superman] | KBS 방송',\n",
       "  'creator': 'KBS Entertain',\n",
       "  'creator_url': 'https://www.youtube.com/user/KBSEntertain'},\n",
       " {'rank': '58',\n",
       "  'content_url': 'https://www.youtube.com/watch?v=wVS3Hc5bSwg&list=PLmtapKaZsgZt3g_uAPJbsMWdkVsznn_2R&index=58',\n",
       "  'content_title': '‘건강히 잘 다녀오길~’ 김호중 논산훈련소 입소 현장 [CBCSTAR] | CBC뉴스',\n",
       "  'creator': '반응이 센- CBC뉴스',\n",
       "  'creator_url': 'https://www.youtube.com/channel/UCjkoqtVO-bu-OKBAJSMG5Ow'},\n",
       " {'rank': '59',\n",
       "  'content_url': 'https://www.youtube.com/watch?v=PUtY4IyFzlY&list=PLmtapKaZsgZt3g_uAPJbsMWdkVsznn_2R&index=59',\n",
       "  'content_title': 'SEVENTEEN Performs ‘Hit’',\n",
       "  'creator': 'TheEllenShow',\n",
       "  'creator_url': 'https://www.youtube.com/c/TheEllenShow'},\n",
       " {'rank': '60',\n",
       "  'content_url': 'https://www.youtube.com/watch?v=IG_IJ26lSBo&list=PLmtapKaZsgZt3g_uAPJbsMWdkVsznn_2R&index=60',\n",
       "  'content_title': '[병맛노래] 한국인을 화나게 하는 방법',\n",
       "  'creator': '빨간내복야코',\n",
       "  'creator_url': 'https://www.youtube.com/channel/UCWhiqHa4dVohOTSUQwK-l2g'},\n",
       " {'rank': '61',\n",
       "  'content_url': 'https://www.youtube.com/watch?v=Znwmyv9nNJo&list=PLmtapKaZsgZt3g_uAPJbsMWdkVsznn_2R&index=61',\n",
       "  'content_title': '[TV 동물농장 레전드] ‘승무원들의 사랑을 독차지 한 똥개’ 풀버전 다시보기 I TV동물농장 (Animal Farm) | SBS Story',\n",
       "  'creator': 'SBS STORY',\n",
       "  'creator_url': 'https://www.youtube.com/user/SBSculture'},\n",
       " {'rank': '62',\n",
       "  'content_url': 'https://www.youtube.com/watch?v=RVxl3vQrD1o&list=PLmtapKaZsgZt3g_uAPJbsMWdkVsznn_2R&index=62',\n",
       "  'content_title': '안녕하세요 엔조이커플 입니다',\n",
       "  'creator': '엔조이커플enjoycouple',\n",
       "  'creator_url': 'https://www.youtube.com/c/enjoycouple'},\n",
       " {'rank': '63',\n",
       "  'content_url': 'https://www.youtube.com/watch?v=OX7ySn5KN0Y&list=PLmtapKaZsgZt3g_uAPJbsMWdkVsznn_2R&index=63',\n",
       "  'content_title': '[전화몰카]갑자기 급식걸즈 짤렸다 하고 반응보기ㅋㅋㅋ(ft.반희,밥통이,얌생이,웨이)',\n",
       "  'creator': '초아시티ChoaCity',\n",
       "  'creator_url': 'https://www.youtube.com/c/ChoaCity'},\n",
       " {'rank': '64',\n",
       "  'content_url': 'https://www.youtube.com/watch?v=L1vjymW7eNg&list=PLmtapKaZsgZt3g_uAPJbsMWdkVsznn_2R&index=64',\n",
       "  'content_title': '[아이유의 팔레트] 팔레트에서 지겹게 보자고 (With 아이유) Ep.7',\n",
       "  'creator': '이지금 [IU Official]',\n",
       "  'creator_url': 'https://www.youtube.com/channel/UC3SyT4_WLHzN7JmHQwKQZww'},\n",
       " {'rank': '65',\n",
       "  'content_url': 'https://www.youtube.com/watch?v=LE-mm23n-8c&list=PLmtapKaZsgZt3g_uAPJbsMWdkVsznn_2R&index=65',\n",
       "  'content_title': '캠핑 말고 먹핑｜Chilling Mukping',\n",
       "  'creator': 'NCT',\n",
       "  'creator_url': 'https://www.youtube.com/channel/UCwgtORdDtUKhpjE1VBv6XfA'},\n",
       " {'rank': '66',\n",
       "  'content_url': 'https://www.youtube.com/watch?v=uxdafynQSJM&list=PLmtapKaZsgZt3g_uAPJbsMWdkVsznn_2R&index=66',\n",
       "  'content_title': '우주소녀(WJSN)의 “UNNATURAL(Band Live Ver.)” │5분 20초 동안 언내추럴 보느라 숨쉬는 법을 잊는 영상 [it’s KPOP LIVE 잇츠라이브]',\n",
       "  'creator': 'Mdromeda KPOP',\n",
       "  'creator_url': 'https://www.youtube.com/c/MBigTv'},\n",
       " {'rank': '67',\n",
       "  'content_url': 'https://www.youtube.com/watch?v=pIrRdWutZOA&list=PLmtapKaZsgZt3g_uAPJbsMWdkVsznn_2R&index=67',\n",
       "  'content_title': \"#박서진 #정동원 #오유진 '퍼포먼스'하면 우리지😎 무대 사로잡는 화려한 끼❗아낌없이 방출🌋 [대케가수] / KBS 방송\",\n",
       "  'creator': 'KBS대전 [CULTURE&DOCUMENTARY]',\n",
       "  'creator_url': 'https://www.youtube.com/c/KBS%EB%8C%80%EC%A0%84'},\n",
       " {'rank': '68',\n",
       "  'content_url': 'https://www.youtube.com/watch?v=8qvf9PHCVmY&list=PLmtapKaZsgZt3g_uAPJbsMWdkVsznn_2R&index=68',\n",
       "  'content_title': '[BANGTAN BOMB] Playful Bangtanies - BTS (방탄소년단)',\n",
       "  'creator': 'BANGTANTV',\n",
       "  'creator_url': 'https://www.youtube.com/channel/UCLkAepWjdylmXSltofFvsYQ'},\n",
       " {'rank': '69',\n",
       "  'content_url': 'https://www.youtube.com/watch?v=qMqRzpr0M2g&list=PLmtapKaZsgZt3g_uAPJbsMWdkVsznn_2R&index=69',\n",
       "  'content_title': '쯔양을 능가하는? 잘 먹는 동생과 삼겹살 5근 먹어유~',\n",
       "  'creator': '그까이꺼',\n",
       "  'creator_url': 'https://www.youtube.com/channel/UCrLUuZAPA7K6kAip78bKxYg'},\n",
       " {'rank': '70',\n",
       "  'content_url': 'https://www.youtube.com/watch?v=stuZ4VmztOg&list=PLmtapKaZsgZt3g_uAPJbsMWdkVsznn_2R&index=70',\n",
       "  'content_title': '그거 아세요2 (feat.임쟤범,아이우,박진엉,이젹,이승쳘,켸이윌,김동룰,김광셕,이숭환,김쟝훈,김죵국,김쥔호,삐,장삐쭈,쓰복만)',\n",
       "  'creator': '과나gwana',\n",
       "  'creator_url': 'https://www.youtube.com/channel/UCZVD--cl8FLRn7kmSudAuBA'},\n",
       " {'rank': '71',\n",
       "  'content_url': 'https://www.youtube.com/watch?v=1qYwHwnPjkU&list=PLmtapKaZsgZt3g_uAPJbsMWdkVsznn_2R&index=71',\n",
       "  'content_title': '아침점심먹고왔니 저녁 30인분 먹어라 with 히밥,쎄히',\n",
       "  'creator': '야루미YARUMI',\n",
       "  'creator_url': 'https://www.youtube.com/channel/UCCfQK8dSofNkR44hIhUNvgw'},\n",
       " {'rank': '72',\n",
       "  'content_url': 'https://www.youtube.com/watch?v=I6DNl_mekbE&list=PLmtapKaZsgZt3g_uAPJbsMWdkVsznn_2R&index=72',\n",
       "  'content_title': '장성규 산통 체험 하다(feat. 만우절 몰카) [장성규니버스] 29회 (ENG)',\n",
       "  'creator': '장성규니버스 K-universe',\n",
       "  'creator_url': 'https://www.youtube.com/c/%EC%9E%A5%EC%84%B1%EA%B7%9C%EB%8B%88%EB%B2%84%EC%8A%A4Kuniverse'},\n",
       " {'rank': '73',\n",
       "  'content_url': 'https://www.youtube.com/watch?v=Fl_VnU-szYU&list=PLmtapKaZsgZt3g_uAPJbsMWdkVsznn_2R&index=73',\n",
       "  'content_title': \"강다니엘(KANGDANIEL) - 'YELLOW' Highlight Medley\",\n",
       "  'creator': 'KONNECT Entertainment',\n",
       "  'creator_url': 'https://www.youtube.com/channel/UCHGJwrjlY6rmZJInxRmiztA'},\n",
       " {'rank': '74',\n",
       "  'content_url': 'https://www.youtube.com/watch?v=rv-NVzZ9rjk&list=PLmtapKaZsgZt3g_uAPJbsMWdkVsznn_2R&index=74',\n",
       "  'content_title': '[배스킨라빈스X라비] 누가 민초를 소수의 취향이라 하는가? 민초여 봉봉하라! 민트초코봉봉 _60s',\n",
       "  'creator': '배스킨라빈스',\n",
       "  'creator_url': 'https://www.youtube.com/user/baskinrobbinskorea'},\n",
       " {'rank': '75',\n",
       "  'content_url': 'https://www.youtube.com/watch?v=K0zOLGBDrDM&list=PLmtapKaZsgZt3g_uAPJbsMWdkVsznn_2R&index=75',\n",
       "  'content_title': '치밥의 끝판왕! 정창욱 셰프의 치킨솥밥 | #최자로드 IN THE HOUSE EP.02',\n",
       "  'creator': 'THE BOB - 더 밥 스튜디오',\n",
       "  'creator_url': 'https://www.youtube.com/c/THEBOB%EB%8D%94%EB%B0%A5%EC%8A%A4%ED%8A%9C%EB%94%94%EC%98%A4'},\n",
       " {'rank': '76',\n",
       "  'content_url': 'https://www.youtube.com/watch?v=2OkreOyuRuY&list=PLmtapKaZsgZt3g_uAPJbsMWdkVsznn_2R&index=76',\n",
       "  'content_title': '[ASMR] 내가 퇴사한 이유 feat. 퇴사로그',\n",
       "  'creator': '강유미 yumi kang좋아서 하는 채널',\n",
       "  'creator_url': 'https://www.youtube.com/channel/UCPZ4e8BQEM-BlepSeZUESSw'},\n",
       " {'rank': '77',\n",
       "  'content_url': 'https://www.youtube.com/watch?v=RJRCTpZC4Qk&list=PLmtapKaZsgZt3g_uAPJbsMWdkVsznn_2R&index=77',\n",
       "  'content_title': '사이비종교 만들었습니다',\n",
       "  'creator': '발명! 쓰레기걸 Trash girl',\n",
       "  'creator_url': 'https://www.youtube.com/channel/UCEwOn7PtulhGiick5T_9CyA'},\n",
       " {'rank': '78',\n",
       "  'content_url': 'https://www.youtube.com/watch?v=GAeqnDq8HAo&list=PLmtapKaZsgZt3g_uAPJbsMWdkVsznn_2R&index=78',\n",
       "  'content_title': '[석준이가해] 6년차 커플은 서로에 대해 얼마나 알고 있을까? 근데 뭔가 좀 이상하다....?ㅋㅋㅋㅋㅋㅋㅋㅋㅋㅋㅋ',\n",
       "  'creator': '석준이가해',\n",
       "  'creator_url': 'https://www.youtube.com/c/%EC%84%9D%EC%A4%80%EC%9D%B4%EA%B0%80%ED%95%B4'},\n",
       " {'rank': '79',\n",
       "  'content_url': 'https://www.youtube.com/watch?v=VK0RozLSnc8&list=PLmtapKaZsgZt3g_uAPJbsMWdkVsznn_2R&index=79',\n",
       "  'content_title': '저희 라이엇은 티모의 성능이 약해졌다고 판단하여..｜11.7 LOL 패치노트 하이라이트 - 리그 오브 레전드',\n",
       "  'creator': 'League of Legends - Korea',\n",
       "  'creator_url': 'https://www.youtube.com/channel/UCooLkG0FfrkPBQsSuC95L6w'},\n",
       " {'rank': '80',\n",
       "  'content_url': 'https://www.youtube.com/watch?v=AS-PozVxj5M&list=PLmtapKaZsgZt3g_uAPJbsMWdkVsznn_2R&index=80',\n",
       "  'content_title': '[풍수인테리어] 가족의 건강과 재물운💰을 불러오는 주방은 어떻게.. | 쌀독 보관법, 그릇 보관법, 각종 주방 조리기구 관리는??',\n",
       "  'creator': '희망나무 tv',\n",
       "  'creator_url': 'https://www.youtube.com/channel/UC5YHB-c4TAbEc35nYYhNb-Q'},\n",
       " {'rank': '81',\n",
       "  'content_url': 'https://www.youtube.com/watch?v=DrzAeol2Uoo&list=PLmtapKaZsgZt3g_uAPJbsMWdkVsznn_2R&index=81',\n",
       "  'content_title': '[다큐3일★풀버전] 배 한 척을 위한 수천 명의 장인들 “8000조각으로 띄우는 꿈 조선소 72시간” (KBS 100110 방송)',\n",
       "  'creator': 'KBS 다큐',\n",
       "  'creator_url': 'https://www.youtube.com/c/KBSDocumentary'},\n",
       " {'rank': '82',\n",
       "  'content_url': 'https://www.youtube.com/watch?v=jwwHWt49WAA&list=PLmtapKaZsgZt3g_uAPJbsMWdkVsznn_2R&index=82',\n",
       "  'content_title': '회사 롤린 민폐녀',\n",
       "  'creator': '진자림 Jinjalim',\n",
       "  'creator_url': 'https://www.youtube.com/channel/UCu38CqTttqEQFwVccmFPlyQ'},\n",
       " {'rank': '83',\n",
       "  'content_url': 'https://www.youtube.com/watch?v=oNdMQO6JYm0&list=PLmtapKaZsgZt3g_uAPJbsMWdkVsznn_2R&index=83',\n",
       "  'content_title': '여동생의 겨털 폭로 & 미용실 아저씨 (feat. 도티) [총몇명의 사연낭독]',\n",
       "  'creator': '총몇명',\n",
       "  'creator_url': 'https://www.youtube.com/channel/UCRuSxVu4iqTK5kCh90ntAgA'},\n",
       " {'rank': '84',\n",
       "  'content_url': 'https://www.youtube.com/watch?v=MNgmhy53vks&list=PLmtapKaZsgZt3g_uAPJbsMWdkVsznn_2R&index=84',\n",
       "  'content_title': \"'싱어게인' 우승자 이승윤이 굳이 진부하게 불러 주는 '굳이 진부하자면'_마리끌레르 MOVIEtoMUSIC\",\n",
       "  'creator': 'Marie Claire Korea',\n",
       "  'creator_url': 'https://www.youtube.com/user/marieclairekr'},\n",
       " {'rank': '85',\n",
       "  'content_url': 'https://www.youtube.com/watch?v=1t8Hm5H07Uw&list=PLmtapKaZsgZt3g_uAPJbsMWdkVsznn_2R&index=85',\n",
       "  'content_title': '\"연습 별로 안 했어요, 50시간 정도\" 메이킹 필름!',\n",
       "  'creator': '티키틱 TIKITIK',\n",
       "  'creator_url': 'https://www.youtube.com/user/shinhyuk0209'},\n",
       " {'rank': '86',\n",
       "  'content_url': 'https://www.youtube.com/watch?v=82YaHMqHBjo&list=PLmtapKaZsgZt3g_uAPJbsMWdkVsznn_2R&index=86',\n",
       "  'content_title': '🇮🇳[화이트 타이거] 속 인도 카스트 제도의 현실 @럭키인코리아 Lucky in Korea',\n",
       "  'creator': '조승연의 탐구생활',\n",
       "  'creator_url': 'https://www.youtube.com/user/Originvoca'},\n",
       " {'rank': '87',\n",
       "  'content_url': 'https://www.youtube.com/watch?v=8M3WUaeIbOk&list=PLmtapKaZsgZt3g_uAPJbsMWdkVsznn_2R&index=87',\n",
       "  'content_title': \"BAEKHYUN 백현 'Bambi' MV\",\n",
       "  'creator': 'SMTOWN',\n",
       "  'creator_url': 'https://www.youtube.com/c/SMTOWN'},\n",
       " {'rank': '88',\n",
       "  'content_url': 'https://www.youtube.com/watch?v=HHkqzA2rNCA&list=PLmtapKaZsgZt3g_uAPJbsMWdkVsznn_2R&index=88',\n",
       "  'content_title': '화난 투자자의 촬영장 난입까지ㅠ 던질까말까 3편 I 두치와뿌꾸, 빅윈, 이스타TV, 신보석, 박준효, 존잘벅이, 마빡, 노경연 I 피파온라인4 I 피파4 I 20UCL I 20챔스',\n",
       "  'creator': 'EA SPORTS TM FIFA 온라인 4',\n",
       "  'creator_url': 'https://www.youtube.com/c/EASPORTSTMFIFAONLINE'},\n",
       " {'rank': '89',\n",
       "  'content_url': 'https://www.youtube.com/watch?v=MYtpZoJRs5A&list=PLmtapKaZsgZt3g_uAPJbsMWdkVsznn_2R&index=89',\n",
       "  'content_title': 'Bambi',\n",
       "  'creator': 'BAEKHYUN - Topic',\n",
       "  'creator_url': 'https://www.youtube.com/channel/UCNk_IkwluNdvioqpj7e-3pA'},\n",
       " {'rank': '90',\n",
       "  'content_url': 'https://www.youtube.com/watch?v=gPwTPsOKAvY&list=PLmtapKaZsgZt3g_uAPJbsMWdkVsznn_2R&index=90',\n",
       "  'content_title': '포브스가 선정한 가장 요리 잘하는 편집자 승우아빠 l 서폿차이 2화',\n",
       "  'creator': '하하 PD HAHA PD',\n",
       "  'creator_url': 'https://www.youtube.com/c/%ED%95%98%ED%95%98PDHAHAPD'},\n",
       " {'rank': '91',\n",
       "  'content_url': 'https://www.youtube.com/watch?v=RH_LoOw6z-M&list=PLmtapKaZsgZt3g_uAPJbsMWdkVsznn_2R&index=91',\n",
       "  'content_title': '[몰카] ENG) 성욕쎈 여친 vs 성욕 없는 남친의 연애? ㅋㅋ 하.. 한숨과 웃음이 동시에 나오는 현장 ㅋㅋ 양꼬치집 귀요미녀들 술마시면서 술깨는 ㅋㅋ',\n",
       "  'creator': '낄낄상회',\n",
       "  'creator_url': 'https://www.youtube.com/channel/UCLVwgJVAzHwA-zv88mrAeZw'},\n",
       " {'rank': '92',\n",
       "  'content_url': 'https://www.youtube.com/watch?v=xcMWVIZsab8&list=PLmtapKaZsgZt3g_uAPJbsMWdkVsznn_2R&index=92',\n",
       "  'content_title': '안경만 걸친 지석진',\n",
       "  'creator': '지편한세상 [Jeeseokjin World]',\n",
       "  'creator_url': 'https://www.youtube.com/c/%EC%A7%80%ED%8E%B8%ED%95%9C%EC%84%B8%EC%83%81JeeseokjinWorld'},\n",
       " {'rank': '93',\n",
       "  'content_url': 'https://www.youtube.com/watch?v=8O6c1_vnSN4&list=PLmtapKaZsgZt3g_uAPJbsMWdkVsznn_2R&index=93',\n",
       "  'content_title': 'BMW 미니쿠퍼 만들기',\n",
       "  'creator': '사나고 Sanago',\n",
       "  'creator_url': 'https://www.youtube.com/c/%EC%82%AC%EB%82%98%EA%B3%A0'},\n",
       " {'rank': '94',\n",
       "  'content_url': 'https://www.youtube.com/watch?v=S11EifQLTpI&list=PLmtapKaZsgZt3g_uAPJbsMWdkVsznn_2R&index=94',\n",
       "  'content_title': '\"미얀마 소수 민족 결집하면 병력 7만5천 명...35만 군부에 맞서볼 만\" / YTN 사이언스',\n",
       "  'creator': 'YTN 사이언스 투데이',\n",
       "  'creator_url': 'https://www.youtube.com/channel/UCUkuuoNkyVBFWojFW-SPmTw'},\n",
       " {'rank': '95',\n",
       "  'content_url': 'https://www.youtube.com/watch?v=ie0vSxAqOUc&list=PLmtapKaZsgZt3g_uAPJbsMWdkVsznn_2R&index=95',\n",
       "  'content_title': '팝잇? 말랑이? 요즘 유행하고 있는 틱톡템들 대체 왜 유행일까? [띠미]',\n",
       "  'creator': '띠미 ddimmi',\n",
       "  'creator_url': 'https://www.youtube.com/channel/UC46BbEkxhjIHUj6EJ_waw-g'},\n",
       " {'rank': '96',\n",
       "  'content_url': 'https://www.youtube.com/watch?v=fQ67qVK2ZC8&list=PLmtapKaZsgZt3g_uAPJbsMWdkVsznn_2R&index=96',\n",
       "  'content_title': \"[4K]'역주행 신화' 쁘걸(브레이브걸스), 유느님 만난썰 풉니다 [스타in터뷰]\",\n",
       "  'creator': '스타in TV',\n",
       "  'creator_url': 'https://www.youtube.com/channel/UCRQ7RwBktFm7MZCvLDNF7KA'},\n",
       " {'rank': '97',\n",
       "  'content_url': 'https://www.youtube.com/watch?v=yfAqoFrngGs&list=PLmtapKaZsgZt3g_uAPJbsMWdkVsznn_2R&index=97',\n",
       "  'content_title': '[BG-CLIP] 눈물폭발🥺 감동적인 쁘걸이들 첫 1위 현장🎉',\n",
       "  'creator': 'Brave Entertainment',\n",
       "  'creator_url': 'https://www.youtube.com/c/BraveEntertainment'},\n",
       " {'rank': '98',\n",
       "  'content_url': 'https://www.youtube.com/watch?v=ZZvtufMiKKk&list=PLmtapKaZsgZt3g_uAPJbsMWdkVsznn_2R&index=98',\n",
       "  'content_title': '★KFX 시험비행 준비 과정★ 최초 공개 ( + KFX 시뮬레이터 탑승 장면 )',\n",
       "  'creator': '프로파일럿',\n",
       "  'creator_url': 'https://www.youtube.com/channel/UC9thBCaJFBYplPEGTJJeBvw'},\n",
       " {'rank': '99',\n",
       "  'content_url': 'https://www.youtube.com/watch?v=na93CGc3RKI&list=PLmtapKaZsgZt3g_uAPJbsMWdkVsznn_2R&index=99',\n",
       "  'content_title': '전국민이 사랑한 I.O.I 소녀들ㅠ.ㅠ 폭풍 성장한 세정-청하의 일상 #highlight #온앤오프 | onandoff EP.38',\n",
       "  'creator': 'tvN',\n",
       "  'creator_url': 'https://www.youtube.com/user/TheChtvn'},\n",
       " {'rank': '100',\n",
       "  'content_url': 'https://www.youtube.com/watch?v=wcgTStAuXQw&list=PLmtapKaZsgZt3g_uAPJbsMWdkVsznn_2R&index=100',\n",
       "  'content_title': '[MV] 우주소녀 (WJSN) - UNNATURAL',\n",
       "  'creator': 'starshipTV',\n",
       "  'creator_url': 'https://www.youtube.com/c/starshipTV'}]"
      ]
     },
     "execution_count": 15,
     "metadata": {},
     "output_type": "execute_result"
    }
   ],
   "source": [
    "total_contents"
   ]
  },
  {
   "cell_type": "markdown",
   "metadata": {},
   "source": [
    "### 세부 사항 크롤링"
   ]
  },
  {
   "cell_type": "code",
   "execution_count": 16,
   "metadata": {},
   "outputs": [
    {
     "data": {
      "text/plain": [
       "{'rank': '1',\n",
       " 'content_url': 'https://www.youtube.com/watch?v=hfXqgH2RscE&list=PLmtapKaZsgZt3g_uAPJbsMWdkVsznn_2R&index=1',\n",
       " 'content_title': '아이유 모르는 척하기 챌린지 | ODG',\n",
       " 'creator': 'odg',\n",
       " 'creator_url': 'https://www.youtube.com/c/ODGkids'}"
      ]
     },
     "execution_count": 16,
     "metadata": {},
     "output_type": "execute_result"
    }
   ],
   "source": [
    "content = total_contents[0]\n",
    "content"
   ]
  },
  {
   "cell_type": "code",
   "execution_count": 17,
   "metadata": {},
   "outputs": [],
   "source": [
    "driver.get(content[\"content_url\"])\n",
    "js = 'document.getElementsByClassName(\"ytp-play-button ytp-button\")[0].click()'\n",
    "driver.execute_script(js)\n",
    "\n",
    "js = 'document.getElementsByClassName(\"more-button style-scope ytd-video-secondary-info-renderer\")[0].click()'\n",
    "driver.execute_script(js)\n",
    "\n",
    "driver.execute_script('window.scrollTo(0, 1000);')\n",
    "driver.implicitly_wait(2)"
   ]
  },
  {
   "cell_type": "code",
   "execution_count": 18,
   "metadata": {},
   "outputs": [],
   "source": [
    "views = driver.find_element_by_css_selector(\"#count > ytd-video-view-count-renderer > span.view-count.style-scope.ytd-video-view-count-renderer\").text\n",
    "date = driver.find_element_by_css_selector(\"#date > yt-formatted-string\").text\n",
    "good = driver.find_element_by_css_selector(\"#top-level-buttons > ytd-toggle-button-renderer:nth-child(1) > a\").find_element_by_css_selector(\"#text\").text\n",
    "bad = driver.find_element_by_css_selector(\"#top-level-buttons > ytd-toggle-button-renderer:nth-child(2) > a\").find_element_by_css_selector(\"#text\").text\n",
    "comments = driver.find_element_by_css_selector(\"#count > yt-formatted-string > span:nth-child(2)\").text"
   ]
  },
  {
   "cell_type": "code",
   "execution_count": 19,
   "metadata": {},
   "outputs": [],
   "source": [
    "description = driver.find_element_by_css_selector(\"#description\")\n",
    "hashlist = description.find_elements_by_css_selector(\"a\")\n",
    "texts = description.find_elements_by_css_selector(\"span\")\n",
    "\n",
    "hashtags = [tag.text for tag in hashlist if tag.text not in (\"\", \" \")]        \n",
    "descriptions = [span.text for span in texts if span.text not in (\" \", \"\")]"
   ]
  },
  {
   "cell_type": "code",
   "execution_count": 20,
   "metadata": {},
   "outputs": [
    {
     "data": {
      "text/plain": [
       "('조회수 4,648,302회', '최초 공개: 2021. 4. 2.', '28만', '1.3천', '19,594')"
      ]
     },
     "execution_count": 20,
     "metadata": {},
     "output_type": "execute_result"
    }
   ],
   "source": [
    "views, date, good, bad, comments"
   ]
  },
  {
   "cell_type": "code",
   "execution_count": 13,
   "metadata": {
    "collapsed": true
   },
   "outputs": [
    {
     "data": {
      "text/plain": [
       "['https://www.youtube.com/1theKOriginals',\n",
       " '#NEWRELEASE',\n",
       " '#MV',\n",
       " '#1theK',\n",
       " '#원더케이',\n",
       " 'https://www.youtube.com/1theK',\n",
       " 'http://www.facebook.com/1theK',\n",
       " 'https://twitter.com/1theK',\n",
       " 'https://goo.gl/otRpZc',\n",
       " 'https://vt.tiktok.com/2mSMBS']"
      ]
     },
     "execution_count": 13,
     "metadata": {},
     "output_type": "execute_result"
    }
   ],
   "source": [
    "hashtags"
   ]
  },
  {
   "cell_type": "code",
   "execution_count": 14,
   "metadata": {
    "collapsed": true
   },
   "outputs": [
    {
     "data": {
      "text/plain": [
       "['[MV] IU(아이유)_LILAC(라일락)\\n\\n\\nK-POP Wonderland, 1theK\\n\\nK-POP의 모든 즐거움을 1theK(원더케이)에서 만나보세요! :)\\nWelcome to the official YouTube channel of K-POP Wonderland, 1theK\\n\\n\"\"1theK Originals\"\" Subscribe 👉 ',\n",
       " '[Notice] 1theK YouTube is also an official channel for the MV, and music shows will count the views from this channel too.\\n[공지] 1theK YouTube는 MV를 유통하는 공식 채널로, 1theK에 업로드된 MV 조회수 또한 음악방송 순위에 반영됩니다.',\n",
       " '▶1theK YT : ',\n",
       " '▶1theK FB  : ',\n",
       " '▶1theK TW : ',\n",
       " '▶1theK Kakao : ',\n",
       " '▶1theK TikTok : ',\n",
       " '\"']"
      ]
     },
     "execution_count": 14,
     "metadata": {},
     "output_type": "execute_result"
    }
   ],
   "source": [
    "descriptions"
   ]
  },
  {
   "cell_type": "code",
   "execution_count": 1,
   "metadata": {},
   "outputs": [],
   "source": [
    "import re\n",
    "\n",
    "def str_to_int(string : str):\n",
    "    value = 0\n",
    "    if '만' in string:\n",
    "        value = float(re.findall('\\d+\\.*\\d*', string)[0])\n",
    "        value *= 10000\n",
    "        \n",
    "    elif '천' in string:\n",
    "        value = float(re.findall('\\d+\\.*\\d*', string)[0])\n",
    "        value *= 1000\n",
    "    else:\n",
    "        tmp = re.findall('\\d+\\.*\\d*', string)\n",
    "        if len(tmp) == 0:\n",
    "            value = 0\n",
    "        else:\n",
    "            value = float(tmp[0])\n",
    "        \n",
    "    return int(value)"
   ]
  },
  {
   "cell_type": "code",
   "execution_count": 2,
   "metadata": {},
   "outputs": [],
   "source": [
    "def crawl_detail_content(driver, data : dict) -> dict:\n",
    "    \n",
    "    if data == None:\n",
    "        data = {}\n",
    "    \n",
    "    # go to content detail page\n",
    "    driver.get(data[\"content_url\"])\n",
    "    tag = driver.find_element_by_css_selector(\"#movie_player > div.html5-video-container > video\")\n",
    "    tag.click()\n",
    "    \n",
    "    try:\n",
    "        button = driver.find_element_by_css_selector(\"paper-button#more\")\n",
    "        button.click()\n",
    "    except:\n",
    "        pass\n",
    "\n",
    "    driver.execute_script('window.scrollTo(0, 1000);')\n",
    "    driver.implicitly_wait(2)\n",
    "    \n",
    "    # get detail information of content\n",
    "    views = driver.find_element_by_css_selector(\"#count > ytd-video-view-count-renderer > span.view-count.style-scope.ytd-video-view-count-renderer\").text.replace(\",\", \"\")\n",
    "    views = re.findall('\\d+', views)[0]\n",
    "    date = driver.find_element_by_css_selector(\"#date > yt-formatted-string\").text.replace(\".\", \"\").split()\n",
    "    date = f\"{date[0]}-{date[1]}-{date[2]}\"\n",
    "    good = driver.find_element_by_css_selector(\"#top-level-buttons > ytd-toggle-button-renderer:nth-child(1) > a\").find_element_by_css_selector(\"#text\").text\n",
    "    \n",
    "    bad = driver.find_element_by_css_selector(\"#top-level-buttons > ytd-toggle-button-renderer:nth-child(2) > a\").find_element_by_css_selector(\"#text\").text\n",
    "    try:\n",
    "        comments = driver.find_element_by_css_selector(\"#count > yt-formatted-string > span:nth-child(2)\").text\n",
    "        comments = int(comments.replace(\",\", \"\"))\n",
    "    except:\n",
    "        comments = -1\n",
    "    \n",
    "    driver.implicitly_wait(2)\n",
    "    \n",
    "    # get content description and hashtags\n",
    "    description = driver.find_element_by_css_selector(\"#description\")\n",
    "    hashlist = description.find_elements_by_css_selector(\"a\")\n",
    "    texts = description.find_elements_by_css_selector(\"span\")\n",
    "    hashtags = [tag.text for tag in hashlist if tag.text not in (\"\", \" \") and tag.text.startswith(\"#\")]        \n",
    "    descriptions = [span.text for span in texts if span.text not in (\" \", \"\")]\n",
    "    \n",
    "    # append detail data\n",
    "    data.update(\n",
    "        {\n",
    "            \"views\" : views,\n",
    "            \"date\" : date,\n",
    "            \"good\" : str_to_int(good),\n",
    "            \"bad\" : str_to_int(bad),\n",
    "            \"comment\" : comments,\n",
    "            \"hashtags\" : hashtags,\n",
    "            \"description\" : descriptions\n",
    "        }\n",
    "    )\n",
    "    \n",
    "    print(data)\n",
    "    \n",
    "    return data\n",
    "    "
   ]
  },
  {
   "cell_type": "markdown",
   "metadata": {},
   "source": [
    "### 전체 크롤링"
   ]
  },
  {
   "cell_type": "code",
   "execution_count": 19,
   "metadata": {},
   "outputs": [
    {
     "name": "stdout",
     "output_type": "stream",
     "text": [
      "Collecting fake_useragent\n",
      "  Downloading https://files.pythonhosted.org/packages/d1/79/af647635d6968e2deb57a208d309f6069d31cb138066d7e821e575112a80/fake-useragent-0.1.11.tar.gz\n",
      "Building wheels for collected packages: fake-useragent\n",
      "  Building wheel for fake-useragent (setup.py): started\n",
      "  Building wheel for fake-useragent (setup.py): finished with status 'done'\n",
      "  Created wheel for fake-useragent: filename=fake_useragent-0.1.11-cp37-none-any.whl size=13490 sha256=aed6c067c3ec92b3decbf7adc28b2604a975379951fe9859b71b423c095d08f4\n",
      "  Stored in directory: C:\\Users\\seungsu\\AppData\\Local\\pip\\Cache\\wheels\\5e\\63\\09\\d1dc15179f175357d3f5c00cbffbac37f9e8690d80545143ff\n",
      "Successfully built fake-useragent\n",
      "Installing collected packages: fake-useragent\n",
      "Successfully installed fake-useragent-0.1.11\n"
     ]
    }
   ],
   "source": [
    "!pip install fake_useragent"
   ]
  },
  {
   "cell_type": "code",
   "execution_count": 3,
   "metadata": {},
   "outputs": [],
   "source": [
    "from selenium import webdriver\n",
    "from selenium.webdriver.common.keys import Keys\n",
    "import time\n",
    "from tqdm import tqdm\n",
    "from fake_useragent import UserAgent"
   ]
  },
  {
   "cell_type": "code",
   "execution_count": 4,
   "metadata": {},
   "outputs": [
    {
     "name": "stdout",
     "output_type": "stream",
     "text": [
      "total data : 200\n"
     ]
    },
    {
     "name": "stderr",
     "output_type": "stream",
     "text": [
      "100%|████████████████████████████████████████████████████████████████████████████████| 200/200 [00:33<00:00,  6.02it/s]\n",
      "  0%|                                                                                          | 0/200 [00:00<?, ?it/s]"
     ]
    },
    {
     "name": "stdout",
     "output_type": "stream",
     "text": [
      "{'rank': '1', 'content_url': 'https://www.youtube.com/watch?v=v7bnOxV4jAc&list=PLmtapKaZsgZt3g_uAPJbsMWdkVsznn_2R&index=1', 'content_title': '[MV] IU(아이유)_LILAC(라일락)', 'creator': '1theK (원더케이)', 'creator_url': 'https://www.youtube.com/c/1theK', 'views': '9407837', 'date': '2021-3-25', 'good': 860000, 'bad': 9900, 'comment': -1, 'hashtags': ['#NEWRELEASE', '#MV', '#1theK', '#원더케이'], 'description': ['[MV] IU(아이유)_LILAC(라일락)\\n\\n\\nK-POP Wonderland, 1theK\\n\\nK-POP의 모든 즐거움을 1theK(원더케이)에서 만나보세요! :)\\nWelcome to the official YouTube channel of K-POP Wonderland, 1theK\\n\\n\"\"1theK Originals\"\" Subscribe 👉 ', '[Notice] 1theK YouTube is also an official channel for the MV, and music shows will count the views from this channel too.\\n[공지] 1theK YouTube는 MV를 유통하는 공식 채널로, 1theK에 업로드된 MV 조회수 또한 음악방송 순위에 반영됩니다.', '▶1theK YT : ', '▶1theK FB  : ', '▶1theK TW : ', '▶1theK Kakao : ', '▶1theK TikTok : ', '\"']}\n"
     ]
    },
    {
     "name": "stderr",
     "output_type": "stream",
     "text": [
      "\r",
      "  0%|▍                                                                               | 1/200 [00:22<1:14:32, 22.47s/it]"
     ]
    },
    {
     "name": "stdout",
     "output_type": "stream",
     "text": [
      "{'rank': '2', 'content_url': 'https://www.youtube.com/watch?v=6xz1bay-6dQ&list=PLmtapKaZsgZt3g_uAPJbsMWdkVsznn_2R&index=2', 'content_title': '[#하이라이트#]드디어 만남 성사! 진짜 BTS와 BTS 여고생의 만남! 살아계세요?#유퀴즈온더블럭 | YOU QUIZ ON THE BLOCK EP.99', 'creator': '유 퀴즈 온 더 튜브', 'creator_url': 'https://www.youtube.com/channel/UC920m3pMPH45qztdhppZhwA', 'views': '7676836', 'date': '2021-3-24', 'good': 460000, 'bad': 2900, 'comment': -1, 'hashtags': ['#유퀴즈온더블럭', '#유퀴즈', '#유재석', '#조세호', '#방탄소년단', '#BTS', '#RM', '#진', '#슈가', '#제이홉', '#지민', '#뷔', '#정국'], 'description': ['유 퀴즈 온 더 블럭\\n\\n매주 (수) 저녁 8시 40분 tvN']}\n"
     ]
    },
    {
     "name": "stderr",
     "output_type": "stream",
     "text": [
      "\r",
      "  1%|▊                                                                               | 2/200 [00:45<1:14:40, 22.63s/it]"
     ]
    },
    {
     "name": "stdout",
     "output_type": "stream",
     "text": [
      "{'rank': '3', 'content_url': 'https://www.youtube.com/watch?v=86BST8NIpNM&list=PLmtapKaZsgZt3g_uAPJbsMWdkVsznn_2R&index=3', 'content_title': '[MV] IU(아이유)_Coin', 'creator': '1theK (원더케이)', 'creator_url': 'https://www.youtube.com/c/1theK', 'views': '2842494', 'date': '2021-3-26', 'good': 350000, 'bad': 2200, 'comment': -1, 'hashtags': ['#NEWRELEASE', '#MV', '#1theK', '#원더케이'], 'description': ['[MV] IU(아이유)_Coin\\n\\nSampled intro sound, created by Niv Gold @Nivgo.com\\n\\nK-POP Wonderland, 1theK\\n\\nK-POP의 모든 즐거움을 1theK(원더케이)에서 만나보세요! :)\\nWelcome to the official YouTube channel of K-POP Wonderland, 1theK\\n\\n\"\"1theK Originals\"\" Subscribe 👉 ', '[Notice] 1theK YouTube is also an official channel for the MV, and music shows will count the views from this channel too.\\n[공지] 1theK YouTube는 MV를 유통하는 공식 채널로, 1theK에 업로드된 MV 조회수 또한 음악방송 순위에 반영됩니다.', '▶1theK YT : ', '▶1theK FB  : ', '▶1theK TW : ', '▶1theK Kakao : ', '▶1theK TikTok : ', '\"']}\n"
     ]
    },
    {
     "name": "stderr",
     "output_type": "stream",
     "text": [
      "\r",
      "  2%|█▏                                                                              | 3/200 [01:04<1:11:04, 21.65s/it]"
     ]
    },
    {
     "name": "stdout",
     "output_type": "stream",
     "text": [
      "{'rank': '4', 'content_url': 'https://www.youtube.com/watch?v=J_sPEzOsixE&list=PLmtapKaZsgZt3g_uAPJbsMWdkVsznn_2R&index=4', 'content_title': '(ENG) 나 엑소 좋아했네? 솔직히 여기 나온 노래 모르는 사람 대한민국 국민 아님(그만큼 명곡이 많다는 뜻) / [문명특급 EP.177]', 'creator': '문명특급 - MMTG', 'creator_url': 'https://www.youtube.com/c/Oopssofastexpress', 'views': '1173586', 'date': '최초-공개:-2021', 'good': 67000, 'bad': 619, 'comment': -1, 'hashtags': ['#백현', '#밤비', '#엑소', '#EXO', '#BAEKHYUN', '#Bambi'], 'description': ['2030의 나훈아 엑소 백현이 왔읍니다👏👏👏\\n큥이 언제 서른 살 됐어ㅠ 나만 늙었어 나만ㅠ\\nSM 전직원의 투표를 뒤로 하고 이수만 쌤이 혼자 골랐다는\\n엑소의 명곡은 과연 어떤 노래였을까요?', '기획/하현종  프로듀서/이아리따  진행/이은재  구성/이은재 이규희 이세정  촬영/오채영 최송인  디자인·CG/김하경 김한솔  담당인턴/김은비 이수현  마케팅/남승훈 김유진 정아름  조연출·편집/오한주  연출/홍민지  제작/SBS디지털뉴스랩 크리에이티브 사업부문']}\n"
     ]
    },
    {
     "name": "stderr",
     "output_type": "stream",
     "text": [
      "\r",
      "  2%|█▌                                                                              | 4/200 [01:23<1:08:02, 20.83s/it]"
     ]
    },
    {
     "name": "stdout",
     "output_type": "stream",
     "text": [
      "{'rank': '5', 'content_url': 'https://www.youtube.com/watch?v=eZA6QNuLmKg&list=PLmtapKaZsgZt3g_uAPJbsMWdkVsznn_2R&index=5', 'content_title': \"[K-Choreo 8K] 아이유 직캠 'LILAC(라일락)' (IU Fancam) l @MusicBank 210326\", 'creator': 'KBS Kpop', 'creator_url': 'https://www.youtube.com/user/KBSKpop', 'views': '811363', 'date': '2021-3-26', 'good': 43000, 'bad': 409, 'comment': -1, 'hashtags': ['#IU', '#Choreography', '#8k', '#KBSKPOP'], 'description': ['More from ', 'Twitter:       ', 'Instagram: ']}\n"
     ]
    },
    {
     "name": "stderr",
     "output_type": "stream",
     "text": [
      "\r",
      "  2%|██                                                                              | 5/200 [01:42<1:05:51, 20.26s/it]"
     ]
    },
    {
     "name": "stdout",
     "output_type": "stream",
     "text": [
      "{'rank': '6', 'content_url': 'https://www.youtube.com/watch?v=9yneHTModes&list=PLmtapKaZsgZt3g_uAPJbsMWdkVsznn_2R&index=6', 'content_title': '[찜꽁습꽁] 상위 0.1% 천재 고양이 💖다홍이💖 모음! 세상에 다홍이 하버드 가야 할 것 같아요. (진심)ㅣSBS ENTER.', 'creator': 'SBS Entertainment', 'creator_url': 'https://www.youtube.com/user/entertainmentSBS', 'views': '894006', 'date': '2021-3-24', 'good': 15000, 'bad': 325, 'comment': -1, 'hashtags': ['#다홍이', '#박수홍', '#뷰티앤더비스트'], 'description': ['이번엔 사심 200% 넣었습니다.\\n편집자가 찜꽁한 천재 고양이 다홍이 모음💖', '▶ Hompage : ', '▶ Subscribe SBS Entertainment : ']}\n"
     ]
    },
    {
     "name": "stderr",
     "output_type": "stream",
     "text": [
      "\r",
      "  3%|██▍                                                                             | 6/200 [02:01<1:03:43, 19.71s/it]"
     ]
    },
    {
     "name": "stdout",
     "output_type": "stream",
     "text": [
      "{'rank': '7', 'content_url': 'https://www.youtube.com/watch?v=cc__Fvyuu8g&list=PLmtapKaZsgZt3g_uAPJbsMWdkVsznn_2R&index=7', 'content_title': \"[Simply K-Pop] Brave Girls (브레이브걸스) - Rollin' (롤린) _ Ep.460\", 'creator': 'ARIRANG K-POP', 'creator_url': 'https://www.youtube.com/c/arirangworld', 'views': '404530', 'date': '2021-3-25', 'good': 17000, 'bad': 153, 'comment': -1, 'hashtags': ['#BraveGirls', '#Rollin', '#브레이브걸스', '#롤린'], 'description': [\"Brave Girls 'Rollin''\\nWith “Rollin’” released in 2017, Brave Girls is writing new history, climbing up and capturing the highest spot on the music charts. Unforgettable upon listening to it, “Rollin’” is a refreshing uptempo EDM song of the tropical house genre with an addictive chorus.\\n\\n브레이브걸스 '롤린'\\n4년 전 발매된 브레이브걸스의 '롤린 (Rollin')'이 각종 음원 사이트에서 1위를 차지하며 역주행 신화를 새롭게 쓰고 있다. ‘롤린 (Rollin')' 은 경쾌한 업템포의 EDM 곡으로, 한번 들으면 쉽게 잊혀지지 않는 Rollin' - Rollin' - Rollin' 이라는 중독성 있는 후렴과 트로피컬 장르 특유의 재미있는 사운드가 인상적이다.\"]}\n"
     ]
    },
    {
     "name": "stderr",
     "output_type": "stream",
     "text": [
      "\r",
      "  4%|██▊                                                                             | 7/200 [02:19<1:01:58, 19.27s/it]"
     ]
    },
    {
     "name": "stdout",
     "output_type": "stream",
     "text": [
      "{'rank': '8', 'content_url': 'https://www.youtube.com/watch?v=W9AVhk3lqeI&list=PLmtapKaZsgZt3g_uAPJbsMWdkVsznn_2R&index=8', 'content_title': '체리가 태어났어요 | 미국 의사도 놀라게 한 감동 출산 후기', 'creator': '올리버쌤', 'creator_url': 'https://www.youtube.com/c/%EC%98%AC%EB%A6%AC%EB%B2%84%EC%8C%A4', 'views': '898285', 'date': '2021-3-26', 'good': 58000, 'bad': 196, 'comment': -1, 'hashtags': [], 'description': ['[올리버쌤의 영어회화 일력 365]\\n저와 함께 새해 영어 공부를 매일 함께 해봐요!! \\n교보문고 ', '예스24 ', '알라딘 ', '인터파크 ', '[해외에서 구매하고 싶다면?!]\\n인터파크 글로벌 ', '드디어 체리를 만나러 산부인과에 왔어요.\\n그리고 세상에서 가장 감동적인 순간을 만났어요.\\n여러분과 이 특별한 순간을 공유하게 되어서 정말 기쁩니다.\\n세상 모든 어머니들과 아기들에게 존경의 마음을 보내요. \\n\\n[올리버쌤의 실전 영어 꿀팁 100] 구매하기 \\n예스24 ', '교보문고 ', '[올리버쌤의 영어 꿀팁] 책 구매하기\\n예스24 ', '교보문고 ', '[올리버쌤 인스타그램] ', ' \\n\\n[유기견 입양 신청 및 해외 이동봉사 문의]\\n메일 2798catherine@gmail.com\\n인스타 instagram.com/yellow_mom_']}\n"
     ]
    },
    {
     "name": "stderr",
     "output_type": "stream",
     "text": [
      "\r",
      "  4%|███▏                                                                            | 8/200 [02:38<1:01:21, 19.18s/it]"
     ]
    },
    {
     "ename": "ElementClickInterceptedException",
     "evalue": "Message: element click intercepted: Element <video tabindex=\"-1\" class=\"video-stream html5-main-video\" controlslist=\"nodownload\" style=\"width: 640px; height: 360px; left: 0px; top: 0px;\" src=\"blob:https://www.youtube.com/f6046329-22d5-4d78-a7a8-c92a964a38fb\"></video> is not clickable at point (344, 40). Other element would receive the click: <input id=\"search\" autocapitalize=\"none\" autocomplete=\"off\" autocorrect=\"off\" name=\"search_query\" tabindex=\"0\" type=\"text\" spellcheck=\"false\" placeholder=\"검색\" aria-label=\"검색\">\n  (Session info: chrome=89.0.4389.90)\n",
     "output_type": "error",
     "traceback": [
      "\u001b[1;31m---------------------------------------------------------------------------\u001b[0m",
      "\u001b[1;31mElementClickInterceptedException\u001b[0m          Traceback (most recent call last)",
      "\u001b[1;32m<ipython-input-4-0400c292b93d>\u001b[0m in \u001b[0;36m<module>\u001b[1;34m\u001b[0m\n\u001b[0;32m     46\u001b[0m \u001b[1;31m# get detail info\u001b[0m\u001b[1;33m\u001b[0m\u001b[1;33m\u001b[0m\u001b[1;33m\u001b[0m\u001b[0m\n\u001b[0;32m     47\u001b[0m \u001b[1;32mfor\u001b[0m \u001b[0mcontent\u001b[0m \u001b[1;32min\u001b[0m \u001b[0mtqdm\u001b[0m\u001b[1;33m(\u001b[0m\u001b[0mtotal_contents\u001b[0m\u001b[1;33m)\u001b[0m\u001b[1;33m:\u001b[0m\u001b[1;33m\u001b[0m\u001b[1;33m\u001b[0m\u001b[0m\n\u001b[1;32m---> 48\u001b[1;33m     \u001b[0mcrawl_detail_content\u001b[0m\u001b[1;33m(\u001b[0m\u001b[0mdriver\u001b[0m\u001b[1;33m,\u001b[0m \u001b[0mcontent\u001b[0m\u001b[1;33m)\u001b[0m\u001b[1;33m\u001b[0m\u001b[1;33m\u001b[0m\u001b[0m\n\u001b[0m",
      "\u001b[1;32m<ipython-input-2-673744bd328d>\u001b[0m in \u001b[0;36mcrawl_detail_content\u001b[1;34m(driver, data)\u001b[0m\n\u001b[0;32m      7\u001b[0m     \u001b[0mdriver\u001b[0m\u001b[1;33m.\u001b[0m\u001b[0mget\u001b[0m\u001b[1;33m(\u001b[0m\u001b[0mdata\u001b[0m\u001b[1;33m[\u001b[0m\u001b[1;34m\"content_url\"\u001b[0m\u001b[1;33m]\u001b[0m\u001b[1;33m)\u001b[0m\u001b[1;33m\u001b[0m\u001b[1;33m\u001b[0m\u001b[0m\n\u001b[0;32m      8\u001b[0m     \u001b[0mtag\u001b[0m \u001b[1;33m=\u001b[0m \u001b[0mdriver\u001b[0m\u001b[1;33m.\u001b[0m\u001b[0mfind_element_by_css_selector\u001b[0m\u001b[1;33m(\u001b[0m\u001b[1;34m\"#movie_player > div.html5-video-container > video\"\u001b[0m\u001b[1;33m)\u001b[0m\u001b[1;33m\u001b[0m\u001b[1;33m\u001b[0m\u001b[0m\n\u001b[1;32m----> 9\u001b[1;33m     \u001b[0mtag\u001b[0m\u001b[1;33m.\u001b[0m\u001b[0mclick\u001b[0m\u001b[1;33m(\u001b[0m\u001b[1;33m)\u001b[0m\u001b[1;33m\u001b[0m\u001b[1;33m\u001b[0m\u001b[0m\n\u001b[0m\u001b[0;32m     10\u001b[0m \u001b[1;33m\u001b[0m\u001b[0m\n\u001b[0;32m     11\u001b[0m     \u001b[1;32mtry\u001b[0m\u001b[1;33m:\u001b[0m\u001b[1;33m\u001b[0m\u001b[1;33m\u001b[0m\u001b[0m\n",
      "\u001b[1;32m~\\Anaconda3\\lib\\site-packages\\selenium\\webdriver\\remote\\webelement.py\u001b[0m in \u001b[0;36mclick\u001b[1;34m(self)\u001b[0m\n\u001b[0;32m     78\u001b[0m     \u001b[1;32mdef\u001b[0m \u001b[0mclick\u001b[0m\u001b[1;33m(\u001b[0m\u001b[0mself\u001b[0m\u001b[1;33m)\u001b[0m\u001b[1;33m:\u001b[0m\u001b[1;33m\u001b[0m\u001b[1;33m\u001b[0m\u001b[0m\n\u001b[0;32m     79\u001b[0m         \u001b[1;34m\"\"\"Clicks the element.\"\"\"\u001b[0m\u001b[1;33m\u001b[0m\u001b[1;33m\u001b[0m\u001b[0m\n\u001b[1;32m---> 80\u001b[1;33m         \u001b[0mself\u001b[0m\u001b[1;33m.\u001b[0m\u001b[0m_execute\u001b[0m\u001b[1;33m(\u001b[0m\u001b[0mCommand\u001b[0m\u001b[1;33m.\u001b[0m\u001b[0mCLICK_ELEMENT\u001b[0m\u001b[1;33m)\u001b[0m\u001b[1;33m\u001b[0m\u001b[1;33m\u001b[0m\u001b[0m\n\u001b[0m\u001b[0;32m     81\u001b[0m \u001b[1;33m\u001b[0m\u001b[0m\n\u001b[0;32m     82\u001b[0m     \u001b[1;32mdef\u001b[0m \u001b[0msubmit\u001b[0m\u001b[1;33m(\u001b[0m\u001b[0mself\u001b[0m\u001b[1;33m)\u001b[0m\u001b[1;33m:\u001b[0m\u001b[1;33m\u001b[0m\u001b[1;33m\u001b[0m\u001b[0m\n",
      "\u001b[1;32m~\\Anaconda3\\lib\\site-packages\\selenium\\webdriver\\remote\\webelement.py\u001b[0m in \u001b[0;36m_execute\u001b[1;34m(self, command, params)\u001b[0m\n\u001b[0;32m    631\u001b[0m             \u001b[0mparams\u001b[0m \u001b[1;33m=\u001b[0m \u001b[1;33m{\u001b[0m\u001b[1;33m}\u001b[0m\u001b[1;33m\u001b[0m\u001b[1;33m\u001b[0m\u001b[0m\n\u001b[0;32m    632\u001b[0m         \u001b[0mparams\u001b[0m\u001b[1;33m[\u001b[0m\u001b[1;34m'id'\u001b[0m\u001b[1;33m]\u001b[0m \u001b[1;33m=\u001b[0m \u001b[0mself\u001b[0m\u001b[1;33m.\u001b[0m\u001b[0m_id\u001b[0m\u001b[1;33m\u001b[0m\u001b[1;33m\u001b[0m\u001b[0m\n\u001b[1;32m--> 633\u001b[1;33m         \u001b[1;32mreturn\u001b[0m \u001b[0mself\u001b[0m\u001b[1;33m.\u001b[0m\u001b[0m_parent\u001b[0m\u001b[1;33m.\u001b[0m\u001b[0mexecute\u001b[0m\u001b[1;33m(\u001b[0m\u001b[0mcommand\u001b[0m\u001b[1;33m,\u001b[0m \u001b[0mparams\u001b[0m\u001b[1;33m)\u001b[0m\u001b[1;33m\u001b[0m\u001b[1;33m\u001b[0m\u001b[0m\n\u001b[0m\u001b[0;32m    634\u001b[0m \u001b[1;33m\u001b[0m\u001b[0m\n\u001b[0;32m    635\u001b[0m     \u001b[1;32mdef\u001b[0m \u001b[0mfind_element\u001b[0m\u001b[1;33m(\u001b[0m\u001b[0mself\u001b[0m\u001b[1;33m,\u001b[0m \u001b[0mby\u001b[0m\u001b[1;33m=\u001b[0m\u001b[0mBy\u001b[0m\u001b[1;33m.\u001b[0m\u001b[0mID\u001b[0m\u001b[1;33m,\u001b[0m \u001b[0mvalue\u001b[0m\u001b[1;33m=\u001b[0m\u001b[1;32mNone\u001b[0m\u001b[1;33m)\u001b[0m\u001b[1;33m:\u001b[0m\u001b[1;33m\u001b[0m\u001b[1;33m\u001b[0m\u001b[0m\n",
      "\u001b[1;32m~\\Anaconda3\\lib\\site-packages\\selenium\\webdriver\\remote\\webdriver.py\u001b[0m in \u001b[0;36mexecute\u001b[1;34m(self, driver_command, params)\u001b[0m\n\u001b[0;32m    319\u001b[0m         \u001b[0mresponse\u001b[0m \u001b[1;33m=\u001b[0m \u001b[0mself\u001b[0m\u001b[1;33m.\u001b[0m\u001b[0mcommand_executor\u001b[0m\u001b[1;33m.\u001b[0m\u001b[0mexecute\u001b[0m\u001b[1;33m(\u001b[0m\u001b[0mdriver_command\u001b[0m\u001b[1;33m,\u001b[0m \u001b[0mparams\u001b[0m\u001b[1;33m)\u001b[0m\u001b[1;33m\u001b[0m\u001b[1;33m\u001b[0m\u001b[0m\n\u001b[0;32m    320\u001b[0m         \u001b[1;32mif\u001b[0m \u001b[0mresponse\u001b[0m\u001b[1;33m:\u001b[0m\u001b[1;33m\u001b[0m\u001b[1;33m\u001b[0m\u001b[0m\n\u001b[1;32m--> 321\u001b[1;33m             \u001b[0mself\u001b[0m\u001b[1;33m.\u001b[0m\u001b[0merror_handler\u001b[0m\u001b[1;33m.\u001b[0m\u001b[0mcheck_response\u001b[0m\u001b[1;33m(\u001b[0m\u001b[0mresponse\u001b[0m\u001b[1;33m)\u001b[0m\u001b[1;33m\u001b[0m\u001b[1;33m\u001b[0m\u001b[0m\n\u001b[0m\u001b[0;32m    322\u001b[0m             response['value'] = self._unwrap_value(\n\u001b[0;32m    323\u001b[0m                 response.get('value', None))\n",
      "\u001b[1;32m~\\Anaconda3\\lib\\site-packages\\selenium\\webdriver\\remote\\errorhandler.py\u001b[0m in \u001b[0;36mcheck_response\u001b[1;34m(self, response)\u001b[0m\n\u001b[0;32m    240\u001b[0m                 \u001b[0malert_text\u001b[0m \u001b[1;33m=\u001b[0m \u001b[0mvalue\u001b[0m\u001b[1;33m[\u001b[0m\u001b[1;34m'alert'\u001b[0m\u001b[1;33m]\u001b[0m\u001b[1;33m.\u001b[0m\u001b[0mget\u001b[0m\u001b[1;33m(\u001b[0m\u001b[1;34m'text'\u001b[0m\u001b[1;33m)\u001b[0m\u001b[1;33m\u001b[0m\u001b[1;33m\u001b[0m\u001b[0m\n\u001b[0;32m    241\u001b[0m             \u001b[1;32mraise\u001b[0m \u001b[0mexception_class\u001b[0m\u001b[1;33m(\u001b[0m\u001b[0mmessage\u001b[0m\u001b[1;33m,\u001b[0m \u001b[0mscreen\u001b[0m\u001b[1;33m,\u001b[0m \u001b[0mstacktrace\u001b[0m\u001b[1;33m,\u001b[0m \u001b[0malert_text\u001b[0m\u001b[1;33m)\u001b[0m\u001b[1;33m\u001b[0m\u001b[1;33m\u001b[0m\u001b[0m\n\u001b[1;32m--> 242\u001b[1;33m         \u001b[1;32mraise\u001b[0m \u001b[0mexception_class\u001b[0m\u001b[1;33m(\u001b[0m\u001b[0mmessage\u001b[0m\u001b[1;33m,\u001b[0m \u001b[0mscreen\u001b[0m\u001b[1;33m,\u001b[0m \u001b[0mstacktrace\u001b[0m\u001b[1;33m)\u001b[0m\u001b[1;33m\u001b[0m\u001b[1;33m\u001b[0m\u001b[0m\n\u001b[0m\u001b[0;32m    243\u001b[0m \u001b[1;33m\u001b[0m\u001b[0m\n\u001b[0;32m    244\u001b[0m     \u001b[1;32mdef\u001b[0m \u001b[0m_value_or_default\u001b[0m\u001b[1;33m(\u001b[0m\u001b[0mself\u001b[0m\u001b[1;33m,\u001b[0m \u001b[0mobj\u001b[0m\u001b[1;33m,\u001b[0m \u001b[0mkey\u001b[0m\u001b[1;33m,\u001b[0m \u001b[0mdefault\u001b[0m\u001b[1;33m)\u001b[0m\u001b[1;33m:\u001b[0m\u001b[1;33m\u001b[0m\u001b[1;33m\u001b[0m\u001b[0m\n",
      "\u001b[1;31mElementClickInterceptedException\u001b[0m: Message: element click intercepted: Element <video tabindex=\"-1\" class=\"video-stream html5-main-video\" controlslist=\"nodownload\" style=\"width: 640px; height: 360px; left: 0px; top: 0px;\" src=\"blob:https://www.youtube.com/f6046329-22d5-4d78-a7a8-c92a964a38fb\"></video> is not clickable at point (344, 40). Other element would receive the click: <input id=\"search\" autocapitalize=\"none\" autocomplete=\"off\" autocorrect=\"off\" name=\"search_query\" tabindex=\"0\" type=\"text\" spellcheck=\"false\" placeholder=\"검색\" aria-label=\"검색\">\n  (Session info: chrome=89.0.4389.90)\n"
     ]
    }
   ],
   "source": [
    "# init chrome driver\n",
    "chrome_driver = \"C:/Users/seungsu/Desktop/gentlegraph/crawling/chromedriver_win32/chromedriver.exe\"\n",
    "\n",
    "chrome_options = webdriver.ChromeOptions()\n",
    "\n",
    "# chrome_options.add_argument(\"headless\")\n",
    "chrome_options.add_argument(\"--window-size=1100,2000\")\n",
    "userAgent = UserAgent().random\n",
    "chrome_options.add_argument(f'user-agent={userAgent}')\n",
    "\n",
    "prefs = {'profile.default_content_setting_values': {'cookies' : 2, 'images': 2, 'plugins' : 2, 'popups': 2, 'geolocation': 2, 'notifications' : 2, 'auto_select_certificate': 2, 'fullscreen' : 2, 'mouselock' : 2, 'mixed_script': 2, 'media_stream' : 2, 'media_stream_mic' : 2, 'media_stream_camera': 2, 'protocol_handlers' : 2, 'ppapi_broker' : 2, 'automatic_downloads': 2, 'midi_sysex' : 2, 'push_messaging' : 2, 'ssl_cert_decisions': 2, 'metro_switch_to_desktop' : 2, 'protected_media_identifier': 2, 'app_banner': 2, 'site_engagement' : 2, 'durable_storage' : 2}} \n",
    "chrome_options.add_experimental_option('prefs', prefs)\n",
    "driver = webdriver.Chrome(chrome_driver, options=chrome_options)\n",
    "\n",
    "\n",
    "# get playlists\n",
    "driver.get(\"https://www.youtube.com/playlist?list=PLmtapKaZsgZt3g_uAPJbsMWdkVsznn_2R\")\n",
    "driver.execute_script('window.scrollTo(0, 20000);')\n",
    "driver.implicitly_wait(5)\n",
    "time.sleep(3)\n",
    "playlist = driver.find_elements_by_css_selector(\"ytd-playlist-video-renderer.style-scope.ytd-playlist-video-list-renderer\")\n",
    "\n",
    "print(f\"total data : {len(playlist)}\")\n",
    "\n",
    "# get brief info\n",
    "total_contents = []\n",
    "for content in tqdm(playlist):\n",
    "    index = content.find_element_by_css_selector(\"#index\").text\n",
    "    video_info = content.find_element_by_css_selector(\"a#video-title\")\n",
    "    channel_info = content.find_element_by_css_selector(\"ytd-channel-name#channel-name\").find_element_by_css_selector(\"a\")\n",
    "    url = video_info.get_attribute(\"href\")\n",
    "    title = video_info.text\n",
    "    creator = channel_info.text\n",
    "    creator_channel = channel_info.get_attribute(\"href\")\n",
    "    \n",
    "    data = {\n",
    "        \"rank\" : index,\n",
    "        \"content_url\" : url,\n",
    "        \"content_title\" : title,\n",
    "        \"creator\" : creator,\n",
    "        \"creator_url\" : creator_channel\n",
    "    }\n",
    "    \n",
    "    total_contents.append(data)\n",
    "\n",
    "# get detail info\n",
    "for content in tqdm(total_contents):\n",
    "    crawl_detail_content(driver, content)"
   ]
  },
  {
   "cell_type": "code",
   "execution_count": null,
   "metadata": {},
   "outputs": [],
   "source": []
  },
  {
   "cell_type": "code",
   "execution_count": 17,
   "metadata": {},
   "outputs": [
    {
     "name": "stdout",
     "output_type": "stream",
     "text": [
      "{'rank': '25', 'content_url': 'https://www.youtube.com/watch?v=yIwooGxe1dg&list=PLmtapKaZsgZt3g_uAPJbsMWdkVsznn_2R&index=25', 'content_title': '당신이 쿠지라이식 간짬뽕을 절대 알 수 없는 이유(마지막 소름 주의)', 'creator': '쿠왕coo king', 'creator_url': 'https://www.youtube.com/channel/UCR-qpXziP5pIqNHFKL-w12g', 'views': '1046553', 'date': '2021-3-22', 'good': 15000, 'bad': 1000, 'comment': -1, 'hashtags': ['#shorts'], 'description': ['당신이 쿠지라이식 간짬뽕을 알 수 없는 이유에 대해서 진지하게 알려드립니다. ', '문의 : cooking7564@gmail.com\\n\\n🎵 브금대통령\\n🎵Track :  ']}\n"
     ]
    },
    {
     "data": {
      "text/plain": [
       "{'rank': '25',\n",
       " 'content_url': 'https://www.youtube.com/watch?v=yIwooGxe1dg&list=PLmtapKaZsgZt3g_uAPJbsMWdkVsznn_2R&index=25',\n",
       " 'content_title': '당신이 쿠지라이식 간짬뽕을 절대 알 수 없는 이유(마지막 소름 주의)',\n",
       " 'creator': '쿠왕coo king',\n",
       " 'creator_url': 'https://www.youtube.com/channel/UCR-qpXziP5pIqNHFKL-w12g',\n",
       " 'views': '1046553',\n",
       " 'date': '2021-3-22',\n",
       " 'good': 15000,\n",
       " 'bad': 1000,\n",
       " 'comment': -1,\n",
       " 'hashtags': ['#shorts'],\n",
       " 'description': ['당신이 쿠지라이식 간짬뽕을 알 수 없는 이유에 대해서 진지하게 알려드립니다. ',\n",
       "  '문의 : cooking7564@gmail.com\\n\\n🎵 브금대통령\\n🎵Track :  ']}"
      ]
     },
     "execution_count": 17,
     "metadata": {},
     "output_type": "execute_result"
    }
   ],
   "source": [
    "content = total_contents[24]\n",
    "crawl_detail_content(content[\"content_url\"], content)"
   ]
  },
  {
   "cell_type": "code",
   "execution_count": null,
   "metadata": {},
   "outputs": [],
   "source": []
  }
 ],
 "metadata": {
  "kernelspec": {
   "display_name": "Python 3",
   "language": "python",
   "name": "python3"
  },
  "language_info": {
   "codemirror_mode": {
    "name": "ipython",
    "version": 3
   },
   "file_extension": ".py",
   "mimetype": "text/x-python",
   "name": "python",
   "nbconvert_exporter": "python",
   "pygments_lexer": "ipython3",
   "version": "3.7.4"
  }
 },
 "nbformat": 4,
 "nbformat_minor": 2
}
